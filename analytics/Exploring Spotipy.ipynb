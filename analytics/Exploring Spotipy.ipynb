{
 "cells": [
  {
   "cell_type": "code",
   "execution_count": 3,
   "metadata": {},
   "outputs": [],
   "source": [
    "import MySQLdb\n",
    "import pandas as pd\n",
    "import numpy as np\n",
    "import matplotlib.pyplot as plt\n",
    "import seaborn as sns\n",
    "import sys\n",
    "sys.path.append('../')\n",
    "import myenvvar\n",
    "from spotipy.oauth2 import SpotifyClientCredentials\n",
    "import spotipy\n",
    "import os"
   ]
  },
  {
   "cell_type": "markdown",
   "metadata": {},
   "source": [
    "# Creating a Spotipy client"
   ]
  },
  {
   "cell_type": "code",
   "execution_count": 4,
   "metadata": {},
   "outputs": [],
   "source": [
    "myenvvar.setVar()\n",
    "client_id = os.environ.get('s_client_id')\n",
    "client_secret = os.environ.get('s_client_secret')\n",
    "client_credentials_manager = SpotifyClientCredentials(client_id=client_id, client_secret=client_secret)\n",
    "sp = spotipy.Spotify(client_credentials_manager=client_credentials_manager)"
   ]
  },
  {
   "cell_type": "markdown",
   "metadata": {},
   "source": [
    "# Test Spotipy's api calls"
   ]
  },
  {
   "cell_type": "code",
   "execution_count": 5,
   "metadata": {},
   "outputs": [],
   "source": [
    "ace_ventura_id = 'spotify:artist:7bSyjB4y9NAhoUDrZTpYt4'"
   ]
  },
  {
   "cell_type": "code",
   "execution_count": 6,
   "metadata": {},
   "outputs": [],
   "source": [
    "artist = sp.artist(ace_ventura_id)"
   ]
  },
  {
   "cell_type": "code",
   "execution_count": 7,
   "metadata": {},
   "outputs": [
    {
     "data": {
      "text/plain": [
       "{'external_urls': {'spotify': 'https://open.spotify.com/artist/7bSyjB4y9NAhoUDrZTpYt4'},\n",
       " 'followers': {'href': None, 'total': 95280},\n",
       " 'genres': ['progressive psytrance', 'psychedelic trance'],\n",
       " 'href': 'https://api.spotify.com/v1/artists/7bSyjB4y9NAhoUDrZTpYt4',\n",
       " 'id': '7bSyjB4y9NAhoUDrZTpYt4',\n",
       " 'images': [{'height': 640,\n",
       "   'url': 'https://i.scdn.co/image/cb2cadb6cf2d2782d413aab838e723ceac09d265',\n",
       "   'width': 640},\n",
       "  {'height': 320,\n",
       "   'url': 'https://i.scdn.co/image/ccfaa262cf736939eaa64a1fbeefa87dd81aa19a',\n",
       "   'width': 320},\n",
       "  {'height': 160,\n",
       "   'url': 'https://i.scdn.co/image/4cd0a1277a598648e190e4518a601dbba4e9f706',\n",
       "   'width': 160}],\n",
       " 'name': 'Ace Ventura',\n",
       " 'popularity': 50,\n",
       " 'type': 'artist',\n",
       " 'uri': 'spotify:artist:7bSyjB4y9NAhoUDrZTpYt4'}"
      ]
     },
     "execution_count": 7,
     "metadata": {},
     "output_type": "execute_result"
    }
   ],
   "source": [
    "artist"
   ]
  },
  {
   "cell_type": "code",
   "execution_count": 8,
   "metadata": {},
   "outputs": [],
   "source": [
    "artist_albums = sp.artist_albums(ace_ventura_id)"
   ]
  },
  {
   "cell_type": "code",
   "execution_count": 12,
   "metadata": {
    "scrolled": false
   },
   "outputs": [
    {
     "data": {
      "text/plain": [
       "20"
      ]
     },
     "execution_count": 12,
     "metadata": {},
     "output_type": "execute_result"
    }
   ],
   "source": [
    "len(artist_albums['items'])"
   ]
  },
  {
   "cell_type": "code",
   "execution_count": 16,
   "metadata": {},
   "outputs": [],
   "source": [
    "#artist_albums['items'][0]"
   ]
  },
  {
   "cell_type": "code",
   "execution_count": 17,
   "metadata": {},
   "outputs": [],
   "source": [
    "artist_top_tracks_us = sp.artist_top_tracks(ace_ventura_id,country='US')"
   ]
  },
  {
   "cell_type": "code",
   "execution_count": 26,
   "metadata": {},
   "outputs": [
    {
     "data": {
      "text/plain": [
       "{'album': {'album_type': 'album',\n",
       "  'artists': [{'external_urls': {'spotify': 'https://open.spotify.com/artist/7bSyjB4y9NAhoUDrZTpYt4'},\n",
       "    'href': 'https://api.spotify.com/v1/artists/7bSyjB4y9NAhoUDrZTpYt4',\n",
       "    'id': '7bSyjB4y9NAhoUDrZTpYt4',\n",
       "    'name': 'Ace Ventura',\n",
       "    'type': 'artist',\n",
       "    'uri': 'spotify:artist:7bSyjB4y9NAhoUDrZTpYt4'}],\n",
       "  'external_urls': {'spotify': 'https://open.spotify.com/album/2CfS4Naza99mlVE1q2qDvK'},\n",
       "  'href': 'https://api.spotify.com/v1/albums/2CfS4Naza99mlVE1q2qDvK',\n",
       "  'id': '2CfS4Naza99mlVE1q2qDvK',\n",
       "  'images': [{'height': 640,\n",
       "    'url': 'https://i.scdn.co/image/ab67616d0000b27326a668daa09c64d5d0f928dd',\n",
       "    'width': 640},\n",
       "   {'height': 300,\n",
       "    'url': 'https://i.scdn.co/image/ab67616d00001e0226a668daa09c64d5d0f928dd',\n",
       "    'width': 300},\n",
       "   {'height': 64,\n",
       "    'url': 'https://i.scdn.co/image/ab67616d0000485126a668daa09c64d5d0f928dd',\n",
       "    'width': 64}],\n",
       "  'name': 'Paradise Engineering',\n",
       "  'release_date': '2015-06-01',\n",
       "  'release_date_precision': 'day',\n",
       "  'total_tracks': 9,\n",
       "  'type': 'album',\n",
       "  'uri': 'spotify:album:2CfS4Naza99mlVE1q2qDvK'},\n",
       " 'artists': [{'external_urls': {'spotify': 'https://open.spotify.com/artist/7bSyjB4y9NAhoUDrZTpYt4'},\n",
       "   'href': 'https://api.spotify.com/v1/artists/7bSyjB4y9NAhoUDrZTpYt4',\n",
       "   'id': '7bSyjB4y9NAhoUDrZTpYt4',\n",
       "   'name': 'Ace Ventura',\n",
       "   'type': 'artist',\n",
       "   'uri': 'spotify:artist:7bSyjB4y9NAhoUDrZTpYt4'},\n",
       "  {'external_urls': {'spotify': 'https://open.spotify.com/artist/3dUltShd2gJQc98Kc7Syit'},\n",
       "   'href': 'https://api.spotify.com/v1/artists/3dUltShd2gJQc98Kc7Syit',\n",
       "   'id': '3dUltShd2gJQc98Kc7Syit',\n",
       "   'name': 'Astrix',\n",
       "   'type': 'artist',\n",
       "   'uri': 'spotify:artist:3dUltShd2gJQc98Kc7Syit'}],\n",
       " 'disc_number': 1,\n",
       " 'duration_ms': 584347,\n",
       " 'explicit': False,\n",
       " 'external_ids': {'isrc': 'DKZVA1560812'},\n",
       " 'external_urls': {'spotify': 'https://open.spotify.com/track/701Y3VMDHgqWXMTKXn6Yyh'},\n",
       " 'href': 'https://api.spotify.com/v1/tracks/701Y3VMDHgqWXMTKXn6Yyh',\n",
       " 'id': '701Y3VMDHgqWXMTKXn6Yyh',\n",
       " 'is_local': False,\n",
       " 'is_playable': True,\n",
       " 'name': 'Pranava',\n",
       " 'popularity': 49,\n",
       " 'preview_url': 'https://p.scdn.co/mp3-preview/231ec1dc0815ae38ed29f31fdeef8178fd90fd9c?cid=49ed58741ac94c3e8e55527889f1c61d',\n",
       " 'track_number': 4,\n",
       " 'type': 'track',\n",
       " 'uri': 'spotify:track:701Y3VMDHgqWXMTKXn6Yyh'}"
      ]
     },
     "execution_count": 26,
     "metadata": {},
     "output_type": "execute_result"
    }
   ],
   "source": [
    "artist_top_tracks_us['tracks'][0]"
   ]
  },
  {
   "cell_type": "code",
   "execution_count": null,
   "metadata": {},
   "outputs": [],
   "source": []
  },
  {
   "cell_type": "code",
   "execution_count": null,
   "metadata": {},
   "outputs": [],
   "source": []
  },
  {
   "cell_type": "code",
   "execution_count": null,
   "metadata": {},
   "outputs": [],
   "source": []
  },
  {
   "cell_type": "code",
   "execution_count": null,
   "metadata": {},
   "outputs": [],
   "source": []
  },
  {
   "cell_type": "code",
   "execution_count": null,
   "metadata": {},
   "outputs": [],
   "source": []
  },
  {
   "cell_type": "code",
   "execution_count": 14,
   "metadata": {},
   "outputs": [
    {
     "name": "stdout",
     "output_type": "stream",
     "text": [
      "album\n",
      "album\n",
      "[{'external_urls': {'spotify': 'https://open.spotify.com/artist/7bSyjB4y9NAhoUDrZTpYt4'}, 'href': 'https://api.spotify.com/v1/artists/7bSyjB4y9NAhoUDrZTpYt4', 'id': '7bSyjB4y9NAhoUDrZTpYt4', 'name': 'Ace Ventura', 'type': 'artist', 'uri': 'spotify:artist:7bSyjB4y9NAhoUDrZTpYt4'}]\n",
      "['AD', 'AE', 'AR', 'AT', 'AU', 'BE', 'BG', 'BH', 'BO', 'BR', 'CA', 'CH', 'CL', 'CO', 'CR', 'CY', 'CZ', 'DE', 'DK', 'DO', 'DZ', 'EC', 'EE', 'EG', 'ES', 'FI', 'FR', 'GB', 'GR', 'GT', 'HK', 'HN', 'HU', 'ID', 'IE', 'IL', 'IN', 'IS', 'IT', 'JO', 'JP', 'KW', 'LB', 'LI', 'LT', 'LU', 'LV', 'MA', 'MC', 'MT', 'MX', 'MY', 'NI', 'NL', 'NO', 'NZ', 'OM', 'PA', 'PE', 'PH', 'PL', 'PS', 'PT', 'PY', 'QA', 'RO', 'SA', 'SE', 'SG', 'SK', 'SV', 'TH', 'TN', 'TR', 'TW', 'US', 'UY', 'VN', 'ZA']\n",
      "{'spotify': 'https://open.spotify.com/album/6SZ4525Ke0Eu3ZmJLEFeJY'}\n",
      "https://api.spotify.com/v1/albums/6SZ4525Ke0Eu3ZmJLEFeJY\n",
      "6SZ4525Ke0Eu3ZmJLEFeJY\n",
      "[{'height': 640, 'url': 'https://i.scdn.co/image/ab67616d0000b273b3b16c9a2ded077fbe4debe2', 'width': 640}, {'height': 300, 'url': 'https://i.scdn.co/image/ab67616d00001e02b3b16c9a2ded077fbe4debe2', 'width': 300}, {'height': 64, 'url': 'https://i.scdn.co/image/ab67616d00004851b3b16c9a2ded077fbe4debe2', 'width': 64}]\n",
      "Psychedelic Awakening\n",
      "2018-06-04\n",
      "day\n",
      "11\n",
      "album\n",
      "spotify:album:6SZ4525Ke0Eu3ZmJLEFeJY\n"
     ]
    }
   ],
   "source": [
    "for i in artist_albums['items'][0]:\n",
    "    print(artist_albums['items'][0][i])"
   ]
  },
  {
   "cell_type": "code",
   "execution_count": null,
   "metadata": {},
   "outputs": [],
   "source": []
  },
  {
   "cell_type": "code",
   "execution_count": null,
   "metadata": {},
   "outputs": [],
   "source": []
  },
  {
   "cell_type": "code",
   "execution_count": null,
   "metadata": {},
   "outputs": [],
   "source": []
  },
  {
   "cell_type": "code",
   "execution_count": null,
   "metadata": {},
   "outputs": [],
   "source": []
  },
  {
   "cell_type": "code",
   "execution_count": 11,
   "metadata": {},
   "outputs": [],
   "source": [
    "artist_related_artists = sp.artist_related_artists(ace_ventura_id)"
   ]
  },
  {
   "cell_type": "code",
   "execution_count": 16,
   "metadata": {},
   "outputs": [
    {
     "data": {
      "text/plain": [
       "{'external_urls': {'spotify': 'https://open.spotify.com/artist/65j5Z2r4jx1WacwcJ91UCQ'},\n",
       " 'followers': {'href': None, 'total': 10263},\n",
       " 'genres': ['progressive psytrance'],\n",
       " 'href': 'https://api.spotify.com/v1/artists/65j5Z2r4jx1WacwcJ91UCQ',\n",
       " 'id': '65j5Z2r4jx1WacwcJ91UCQ',\n",
       " 'images': [{'height': 640,\n",
       "   'url': 'https://i.scdn.co/image/ab67616d0000b273aaed6a5d3d106d1fcb721965',\n",
       "   'width': 640},\n",
       "  {'height': 300,\n",
       "   'url': 'https://i.scdn.co/image/ab67616d00001e02aaed6a5d3d106d1fcb721965',\n",
       "   'width': 300},\n",
       "  {'height': 64,\n",
       "   'url': 'https://i.scdn.co/image/ab67616d00004851aaed6a5d3d106d1fcb721965',\n",
       "   'width': 64}],\n",
       " 'name': 'Flowjob',\n",
       " 'popularity': 29,\n",
       " 'type': 'artist',\n",
       " 'uri': 'spotify:artist:65j5Z2r4jx1WacwcJ91UCQ'}"
      ]
     },
     "execution_count": 16,
     "metadata": {},
     "output_type": "execute_result"
    }
   ],
   "source": [
    "artist_related_artists['artists'][0]"
   ]
  },
  {
   "cell_type": "code",
   "execution_count": 17,
   "metadata": {},
   "outputs": [],
   "source": [
    "artist_top_tracks = sp.artist_top_tracks(ace_ventura_id)"
   ]
  },
  {
   "cell_type": "code",
   "execution_count": 20,
   "metadata": {},
   "outputs": [
    {
     "data": {
      "text/plain": [
       "{'album': {'album_type': 'album',\n",
       "  'artists': [{'external_urls': {'spotify': 'https://open.spotify.com/artist/7bSyjB4y9NAhoUDrZTpYt4'},\n",
       "    'href': 'https://api.spotify.com/v1/artists/7bSyjB4y9NAhoUDrZTpYt4',\n",
       "    'id': '7bSyjB4y9NAhoUDrZTpYt4',\n",
       "    'name': 'Ace Ventura',\n",
       "    'type': 'artist',\n",
       "    'uri': 'spotify:artist:7bSyjB4y9NAhoUDrZTpYt4'}],\n",
       "  'external_urls': {'spotify': 'https://open.spotify.com/album/2CfS4Naza99mlVE1q2qDvK'},\n",
       "  'href': 'https://api.spotify.com/v1/albums/2CfS4Naza99mlVE1q2qDvK',\n",
       "  'id': '2CfS4Naza99mlVE1q2qDvK',\n",
       "  'images': [{'height': 640,\n",
       "    'url': 'https://i.scdn.co/image/ab67616d0000b27326a668daa09c64d5d0f928dd',\n",
       "    'width': 640},\n",
       "   {'height': 300,\n",
       "    'url': 'https://i.scdn.co/image/ab67616d00001e0226a668daa09c64d5d0f928dd',\n",
       "    'width': 300},\n",
       "   {'height': 64,\n",
       "    'url': 'https://i.scdn.co/image/ab67616d0000485126a668daa09c64d5d0f928dd',\n",
       "    'width': 64}],\n",
       "  'name': 'Paradise Engineering',\n",
       "  'release_date': '2015-06-01',\n",
       "  'release_date_precision': 'day',\n",
       "  'total_tracks': 9,\n",
       "  'type': 'album',\n",
       "  'uri': 'spotify:album:2CfS4Naza99mlVE1q2qDvK'},\n",
       " 'artists': [{'external_urls': {'spotify': 'https://open.spotify.com/artist/7bSyjB4y9NAhoUDrZTpYt4'},\n",
       "   'href': 'https://api.spotify.com/v1/artists/7bSyjB4y9NAhoUDrZTpYt4',\n",
       "   'id': '7bSyjB4y9NAhoUDrZTpYt4',\n",
       "   'name': 'Ace Ventura',\n",
       "   'type': 'artist',\n",
       "   'uri': 'spotify:artist:7bSyjB4y9NAhoUDrZTpYt4'},\n",
       "  {'external_urls': {'spotify': 'https://open.spotify.com/artist/3dUltShd2gJQc98Kc7Syit'},\n",
       "   'href': 'https://api.spotify.com/v1/artists/3dUltShd2gJQc98Kc7Syit',\n",
       "   'id': '3dUltShd2gJQc98Kc7Syit',\n",
       "   'name': 'Astrix',\n",
       "   'type': 'artist',\n",
       "   'uri': 'spotify:artist:3dUltShd2gJQc98Kc7Syit'}],\n",
       " 'disc_number': 1,\n",
       " 'duration_ms': 584347,\n",
       " 'explicit': False,\n",
       " 'external_ids': {'isrc': 'DKZVA1560812'},\n",
       " 'external_urls': {'spotify': 'https://open.spotify.com/track/701Y3VMDHgqWXMTKXn6Yyh'},\n",
       " 'href': 'https://api.spotify.com/v1/tracks/701Y3VMDHgqWXMTKXn6Yyh',\n",
       " 'id': '701Y3VMDHgqWXMTKXn6Yyh',\n",
       " 'is_local': False,\n",
       " 'is_playable': True,\n",
       " 'name': 'Pranava',\n",
       " 'popularity': 49,\n",
       " 'preview_url': 'https://p.scdn.co/mp3-preview/231ec1dc0815ae38ed29f31fdeef8178fd90fd9c?cid=49ed58741ac94c3e8e55527889f1c61d',\n",
       " 'track_number': 4,\n",
       " 'type': 'track',\n",
       " 'uri': 'spotify:track:701Y3VMDHgqWXMTKXn6Yyh'}"
      ]
     },
     "execution_count": 20,
     "metadata": {},
     "output_type": "execute_result"
    }
   ],
   "source": [
    "artist_top_tracks['tracks'][0]"
   ]
  },
  {
   "cell_type": "code",
   "execution_count": null,
   "metadata": {},
   "outputs": [],
   "source": []
  }
 ],
 "metadata": {
  "kernelspec": {
   "display_name": "Python 3",
   "language": "python",
   "name": "python3"
  },
  "language_info": {
   "codemirror_mode": {
    "name": "ipython",
    "version": 3
   },
   "file_extension": ".py",
   "mimetype": "text/x-python",
   "name": "python",
   "nbconvert_exporter": "python",
   "pygments_lexer": "ipython3",
   "version": "3.7.6"
  }
 },
 "nbformat": 4,
 "nbformat_minor": 4
}
