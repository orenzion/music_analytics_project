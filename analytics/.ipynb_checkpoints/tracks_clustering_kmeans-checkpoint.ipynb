{
 "cells": [
  {
   "cell_type": "markdown",
   "metadata": {},
   "source": [
    "# Clustering tracks using KMeans and finding the nearest tracks to the clusters centers per each clustering session"
   ]
  },
  {
   "cell_type": "markdown",
   "metadata": {},
   "source": [
    "# Imports:"
   ]
  },
  {
   "cell_type": "code",
   "execution_count": 2,
   "metadata": {},
   "outputs": [],
   "source": [
    "import MySQLdb\n",
    "import pandas as pd\n",
    "import numpy as np\n",
    "import matplotlib.pyplot as plt\n",
    "import seaborn as sns\n",
    "import sys\n",
    "sys.path.append('../')\n",
    "import myenvvar\n",
    "from sklearn.cluster import KMeans\n",
    "import datetime as dt"
   ]
  },
  {
   "cell_type": "code",
   "execution_count": 12,
   "metadata": {},
   "outputs": [],
   "source": [
    "from scipy.cluster.vq import vq"
   ]
  },
  {
   "cell_type": "code",
   "execution_count": 50,
   "metadata": {},
   "outputs": [],
   "source": [
    "from sklearn.metrics import pairwise_distances_argmin_min"
   ]
  },
  {
   "cell_type": "markdown",
   "metadata": {},
   "source": [
    "# Create DB connection"
   ]
  },
  {
   "cell_type": "code",
   "execution_count": 3,
   "metadata": {},
   "outputs": [],
   "source": [
    "conn = MySQLdb.Connection(\n",
    "        host=myenvvar.db_vars['host'],\n",
    "        user=myenvvar.db_vars['user'],\n",
    "        passwd=myenvvar.db_vars['password'],\n",
    "        port=myenvvar.db_vars['port'],\n",
    "        db=myenvvar.db_vars['db']\n",
    "        )"
   ]
  },
  {
   "cell_type": "markdown",
   "metadata": {},
   "source": [
    "# Import kmeans_clustering_params table from DB into df"
   ]
  },
  {
   "cell_type": "code",
   "execution_count": 4,
   "metadata": {},
   "outputs": [],
   "source": [
    "q = \"SELECT * FROM kmeans_clustering_params\"\n",
    "kmeans_clustering_params_df = pd.read_sql(q, conn)"
   ]
  },
  {
   "cell_type": "code",
   "execution_count": 5,
   "metadata": {},
   "outputs": [
    {
     "data": {
      "text/html": [
       "<div>\n",
       "<style scoped>\n",
       "    .dataframe tbody tr th:only-of-type {\n",
       "        vertical-align: middle;\n",
       "    }\n",
       "\n",
       "    .dataframe tbody tr th {\n",
       "        vertical-align: top;\n",
       "    }\n",
       "\n",
       "    .dataframe thead th {\n",
       "        text-align: right;\n",
       "    }\n",
       "</style>\n",
       "<table border=\"1\" class=\"dataframe\">\n",
       "  <thead>\n",
       "    <tr style=\"text-align: right;\">\n",
       "      <th></th>\n",
       "      <th>clustering_datetime</th>\n",
       "      <th>random_state</th>\n",
       "      <th>k</th>\n",
       "      <th>interia_score</th>\n",
       "    </tr>\n",
       "  </thead>\n",
       "  <tbody>\n",
       "    <tr>\n",
       "      <th>0</th>\n",
       "      <td>2020-06-08 07:39:06</td>\n",
       "      <td>3</td>\n",
       "      <td>4</td>\n",
       "      <td>278.98907</td>\n",
       "    </tr>\n",
       "    <tr>\n",
       "      <th>1</th>\n",
       "      <td>2020-06-08 10:15:39</td>\n",
       "      <td>3</td>\n",
       "      <td>4</td>\n",
       "      <td>296.64117</td>\n",
       "    </tr>\n",
       "  </tbody>\n",
       "</table>\n",
       "</div>"
      ],
      "text/plain": [
       "  clustering_datetime  random_state  k  interia_score\n",
       "0 2020-06-08 07:39:06             3  4      278.98907\n",
       "1 2020-06-08 10:15:39             3  4      296.64117"
      ]
     },
     "execution_count": 5,
     "metadata": {},
     "output_type": "execute_result"
    }
   ],
   "source": [
    "kmeans_clustering_params_df.head()"
   ]
  },
  {
   "cell_type": "markdown",
   "metadata": {},
   "source": [
    "# Import kmeans_clustering_params table from DB into df"
   ]
  },
  {
   "cell_type": "code",
   "execution_count": 6,
   "metadata": {},
   "outputs": [],
   "source": [
    "q = \"SELECT * FROM kmeans_clustering_centroids\"\n",
    "kmeans_clustering_centroids_df = pd.read_sql(q, conn)"
   ]
  },
  {
   "cell_type": "code",
   "execution_count": 7,
   "metadata": {},
   "outputs": [
    {
     "data": {
      "text/html": [
       "<div>\n",
       "<style scoped>\n",
       "    .dataframe tbody tr th:only-of-type {\n",
       "        vertical-align: middle;\n",
       "    }\n",
       "\n",
       "    .dataframe tbody tr th {\n",
       "        vertical-align: top;\n",
       "    }\n",
       "\n",
       "    .dataframe thead th {\n",
       "        text-align: right;\n",
       "    }\n",
       "</style>\n",
       "<table border=\"1\" class=\"dataframe\">\n",
       "  <thead>\n",
       "    <tr style=\"text-align: right;\">\n",
       "      <th></th>\n",
       "      <th>clustering_datetime</th>\n",
       "      <th>cluster_number</th>\n",
       "      <th>danceability_c</th>\n",
       "      <th>energy_c</th>\n",
       "      <th>loudness_c</th>\n",
       "      <th>speechiness_c</th>\n",
       "      <th>acousticness_c</th>\n",
       "      <th>instrumentalness_c</th>\n",
       "      <th>liveness_c</th>\n",
       "      <th>valence_c</th>\n",
       "      <th>tempo_c</th>\n",
       "    </tr>\n",
       "  </thead>\n",
       "  <tbody>\n",
       "    <tr>\n",
       "      <th>0</th>\n",
       "      <td>2020-06-08 07:39:06</td>\n",
       "      <td>0</td>\n",
       "      <td>0.63331</td>\n",
       "      <td>0.43852</td>\n",
       "      <td>0.57906</td>\n",
       "      <td>0.11503</td>\n",
       "      <td>0.55891</td>\n",
       "      <td>0.09910</td>\n",
       "      <td>0.16212</td>\n",
       "      <td>0.42861</td>\n",
       "      <td>0.46887</td>\n",
       "    </tr>\n",
       "    <tr>\n",
       "      <th>1</th>\n",
       "      <td>2020-06-08 07:39:06</td>\n",
       "      <td>1</td>\n",
       "      <td>0.65696</td>\n",
       "      <td>0.35716</td>\n",
       "      <td>0.50855</td>\n",
       "      <td>0.09188</td>\n",
       "      <td>0.67125</td>\n",
       "      <td>0.83930</td>\n",
       "      <td>0.14519</td>\n",
       "      <td>0.37126</td>\n",
       "      <td>0.41454</td>\n",
       "    </tr>\n",
       "    <tr>\n",
       "      <th>2</th>\n",
       "      <td>2020-06-08 07:39:06</td>\n",
       "      <td>2</td>\n",
       "      <td>0.64188</td>\n",
       "      <td>0.73599</td>\n",
       "      <td>0.67261</td>\n",
       "      <td>0.05511</td>\n",
       "      <td>0.04879</td>\n",
       "      <td>0.77775</td>\n",
       "      <td>0.20413</td>\n",
       "      <td>0.27952</td>\n",
       "      <td>0.56177</td>\n",
       "    </tr>\n",
       "    <tr>\n",
       "      <th>3</th>\n",
       "      <td>2020-06-08 07:39:06</td>\n",
       "      <td>3</td>\n",
       "      <td>0.64076</td>\n",
       "      <td>0.75129</td>\n",
       "      <td>0.73627</td>\n",
       "      <td>0.09015</td>\n",
       "      <td>0.07814</td>\n",
       "      <td>0.05810</td>\n",
       "      <td>0.17893</td>\n",
       "      <td>0.46776</td>\n",
       "      <td>0.51825</td>\n",
       "    </tr>\n",
       "    <tr>\n",
       "      <th>4</th>\n",
       "      <td>2020-06-08 10:15:39</td>\n",
       "      <td>0</td>\n",
       "      <td>0.64482</td>\n",
       "      <td>0.73588</td>\n",
       "      <td>0.66794</td>\n",
       "      <td>0.05619</td>\n",
       "      <td>0.04913</td>\n",
       "      <td>0.77476</td>\n",
       "      <td>0.20069</td>\n",
       "      <td>0.28655</td>\n",
       "      <td>0.51462</td>\n",
       "    </tr>\n",
       "  </tbody>\n",
       "</table>\n",
       "</div>"
      ],
      "text/plain": [
       "  clustering_datetime  cluster_number  danceability_c  energy_c  loudness_c  \\\n",
       "0 2020-06-08 07:39:06               0         0.63331   0.43852     0.57906   \n",
       "1 2020-06-08 07:39:06               1         0.65696   0.35716     0.50855   \n",
       "2 2020-06-08 07:39:06               2         0.64188   0.73599     0.67261   \n",
       "3 2020-06-08 07:39:06               3         0.64076   0.75129     0.73627   \n",
       "4 2020-06-08 10:15:39               0         0.64482   0.73588     0.66794   \n",
       "\n",
       "   speechiness_c  acousticness_c  instrumentalness_c  liveness_c  valence_c  \\\n",
       "0        0.11503         0.55891             0.09910     0.16212    0.42861   \n",
       "1        0.09188         0.67125             0.83930     0.14519    0.37126   \n",
       "2        0.05511         0.04879             0.77775     0.20413    0.27952   \n",
       "3        0.09015         0.07814             0.05810     0.17893    0.46776   \n",
       "4        0.05619         0.04913             0.77476     0.20069    0.28655   \n",
       "\n",
       "   tempo_c  \n",
       "0  0.46887  \n",
       "1  0.41454  \n",
       "2  0.56177  \n",
       "3  0.51825  \n",
       "4  0.51462  "
      ]
     },
     "execution_count": 7,
     "metadata": {},
     "output_type": "execute_result"
    }
   ],
   "source": [
    "kmeans_clustering_centroids_df.head()"
   ]
  },
  {
   "cell_type": "markdown",
   "metadata": {},
   "source": [
    "# Find nearest tracks to clusters centroids for each KMeans clustering session"
   ]
  },
  {
   "cell_type": "code",
   "execution_count": 36,
   "metadata": {},
   "outputs": [],
   "source": [
    "# filter tracks per added_datetime\n",
    "def get_tracks_features_per_clustering_date_df(clustering_datetime):\n",
    "    q = \"select * from audio_features af where af.added_datetime <\" +\"'\"+ str(clustering_datetime) + \"'\"\n",
    "    tracks_features_per_clustering_date_df = pd.read_sql(q, conn)\n",
    "    cols_to_drop = ['key', 'time_signature', 'total_available_markets', 'mode', 'duration_ms','popularity','added_datetime']\n",
    "    tracks_features_per_clustering_date_df = tracks_features_per_clustering_date_df.drop(cols_to_drop, axis=1)\n",
    "    tracks_features_per_clustering_date_df.set_index('track_id',inplace=True)\n",
    "    return tracks_features_per_clustering_date_df"
   ]
  },
  {
   "cell_type": "code",
   "execution_count": 62,
   "metadata": {},
   "outputs": [
    {
     "name": "stdout",
     "output_type": "stream",
     "text": [
      "clustering datetime: 2020-06-08 07:39:06\n",
      "nearest tracks to cluster centroid indices [113, 212, 212, 497]\n",
      "track nearest to center in cluster  0\n",
      "spotify:track:0PNJQTpE2oBUbOFgzSxBz5\n",
      "track nearest to center in cluster  1\n",
      "spotify:track:180BGvBq7bOB8mX8iFT5Ni\n",
      "track nearest to center in cluster  2\n",
      "spotify:track:180BGvBq7bOB8mX8iFT5Ni\n",
      "track nearest to center in cluster  3\n",
      "spotify:track:2Q9N9K13AsJeutVQpNSO0r\n",
      "\n",
      "clustering datetime: 2020-06-08 10:15:39\n",
      "nearest tracks to cluster centroid indices [172, 92, 443, 230]\n",
      "track nearest to center in cluster  0\n",
      "spotify:track:0wtHjEAzLYYyGuk2WtpGwS\n",
      "track nearest to center in cluster  1\n",
      "spotify:track:0kvKNrIyDP9ScCw2Jo16bK\n",
      "track nearest to center in cluster  2\n",
      "spotify:track:2a1qzI3rJQqmJGG0MomA9b\n",
      "track nearest to center in cluster  3\n",
      "spotify:track:17gGSEIql8L3FwhqlmkZ1I\n",
      "\n"
     ]
    }
   ],
   "source": [
    "for ind in kmeans_clustering_params_df.index:\n",
    "    tracks_features_per_clustering_date_df = get_tracks_features_per_clustering_date_df(kmeans_clustering_params_df['clustering_datetime'][ind])\n",
    "    kmeans_model = KMeans(n_clusters=kmeans_clustering_params_df['k'][ind], random_state=kmeans_clustering_params_df['random_state'][ind]).fit(tracks_features_per_clustering_date_df)\n",
    "    preds = kmeans_model.predict(tracks_features_per_clustering_date_df)\n",
    "    sq_dist_vec_space = kmeans_model.transform(tracks_features_per_clustering_date_df)**2\n",
    "    \n",
    "    min_indices = []\n",
    "    for label in np.unique(preds):\n",
    "        indices_records_curr_cluster = np.where(preds==label)[0] # indices of records from curr cluster\n",
    "        dist_arr_curr_cluster = [sq_dist_vec_space[i] for i in indices_records_curr_cluster]\n",
    "        min_dist_curr_cluster = np.argmin([x[label] for x in dist_arr_curr_cluster])\n",
    "        min_indices.append(min_dist_curr_cluster)\n",
    "        \n",
    "    print(\"clustering datetime:\",kmeans_clustering_params_df['clustering_datetime'][ind])\n",
    "    print(\"nearest tracks to cluster centroid indices\", min_indices)\n",
    "    track_ids_list = list(tracks_features_per_clustering_date_df.index.values)\n",
    "    for i in range(len(min_indices)):\n",
    "        print(\"track nearest to center in cluster \", i)\n",
    "        print(\"spotify:track:\"+str(track_ids_list[min_indices[i]]))\n",
    "        \n",
    "    print(\"\") # print empty line between clustering sessions"
   ]
  },
  {
   "cell_type": "code",
   "execution_count": null,
   "metadata": {},
   "outputs": [],
   "source": []
  },
  {
   "cell_type": "code",
   "execution_count": null,
   "metadata": {},
   "outputs": [],
   "source": []
  },
  {
   "cell_type": "code",
   "execution_count": null,
   "metadata": {},
   "outputs": [],
   "source": []
  },
  {
   "cell_type": "code",
   "execution_count": null,
   "metadata": {},
   "outputs": [],
   "source": []
  },
  {
   "cell_type": "code",
   "execution_count": null,
   "metadata": {},
   "outputs": [],
   "source": []
  }
 ],
 "metadata": {
  "kernelspec": {
   "display_name": "Python 3",
   "language": "python",
   "name": "python3"
  },
  "language_info": {
   "codemirror_mode": {
    "name": "ipython",
    "version": 3
   },
   "file_extension": ".py",
   "mimetype": "text/x-python",
   "name": "python",
   "nbconvert_exporter": "python",
   "pygments_lexer": "ipython3",
   "version": "3.7.6"
  }
 },
 "nbformat": 4,
 "nbformat_minor": 4
}
