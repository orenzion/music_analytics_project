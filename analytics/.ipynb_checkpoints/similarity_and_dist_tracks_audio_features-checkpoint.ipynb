{
 "cells": [
  {
   "cell_type": "markdown",
   "metadata": {},
   "source": [
    "# Understanding distance and similarity metrics using track's audio features\n",
    "The purpose of this notebook is to learn about similarity and distance metrics using tracks audio features data and better understand and choose the right metric for similarity between tracks."
   ]
  },
  {
   "cell_type": "code",
   "execution_count": 14,
   "metadata": {},
   "outputs": [],
   "source": [
    "import MySQLdb\n",
    "import pandas as pd\n",
    "import numpy as np\n",
    "import matplotlib.pyplot as plt\n",
    "import seaborn as sns\n",
    "import sys\n",
    "sys.path.append('../')\n",
    "import myenvvar\n",
    "import datetime as dt\n",
    "from sklearn.neighbors import DistanceMetric"
   ]
  },
  {
   "cell_type": "code",
   "execution_count": 2,
   "metadata": {},
   "outputs": [],
   "source": [
    "conn = MySQLdb.Connection(\n",
    "        host=myenvvar.db_vars['host'],\n",
    "        user=myenvvar.db_vars['user'],\n",
    "        passwd=myenvvar.db_vars['password'],\n",
    "        port=myenvvar.db_vars['port'],\n",
    "        db=myenvvar.db_vars['db']\n",
    "        )\n",
    "conn.set_character_set('utf8')"
   ]
  },
  {
   "cell_type": "markdown",
   "metadata": {},
   "source": [
    "# Read tracks audio features"
   ]
  },
  {
   "cell_type": "code",
   "execution_count": 8,
   "metadata": {},
   "outputs": [
    {
     "data": {
      "text/plain": [
       "(2100, 17)"
      ]
     },
     "execution_count": 8,
     "metadata": {},
     "output_type": "execute_result"
    }
   ],
   "source": [
    "q = \"SELECT * FROM audio_features\"\n",
    "audio_features_df = pd.read_sql(q, conn)\n",
    "audio_features_df.shape"
   ]
  },
  {
   "cell_type": "code",
   "execution_count": 9,
   "metadata": {},
   "outputs": [
    {
     "data": {
      "text/html": [
       "<div>\n",
       "<style scoped>\n",
       "    .dataframe tbody tr th:only-of-type {\n",
       "        vertical-align: middle;\n",
       "    }\n",
       "\n",
       "    .dataframe tbody tr th {\n",
       "        vertical-align: top;\n",
       "    }\n",
       "\n",
       "    .dataframe thead th {\n",
       "        text-align: right;\n",
       "    }\n",
       "</style>\n",
       "<table border=\"1\" class=\"dataframe\">\n",
       "  <thead>\n",
       "    <tr style=\"text-align: right;\">\n",
       "      <th></th>\n",
       "      <th>track_id</th>\n",
       "      <th>danceability</th>\n",
       "      <th>energy</th>\n",
       "      <th>key</th>\n",
       "      <th>loudness</th>\n",
       "      <th>mode</th>\n",
       "      <th>speechiness</th>\n",
       "      <th>acousticness</th>\n",
       "      <th>instrumentalness</th>\n",
       "      <th>liveness</th>\n",
       "      <th>valence</th>\n",
       "      <th>tempo</th>\n",
       "      <th>duration_ms</th>\n",
       "      <th>time_signature</th>\n",
       "      <th>total_available_markets</th>\n",
       "      <th>popularity</th>\n",
       "      <th>added_datetime</th>\n",
       "    </tr>\n",
       "  </thead>\n",
       "  <tbody>\n",
       "    <tr>\n",
       "      <th>0</th>\n",
       "      <td>00bOhb4584JjyfTiXX81mO</td>\n",
       "      <td>0.629</td>\n",
       "      <td>0.387</td>\n",
       "      <td>10</td>\n",
       "      <td>-13.667</td>\n",
       "      <td>1</td>\n",
       "      <td>0.0386</td>\n",
       "      <td>0.42400</td>\n",
       "      <td>0.0000</td>\n",
       "      <td>0.0479</td>\n",
       "      <td>0.497</td>\n",
       "      <td>76.003</td>\n",
       "      <td>275640</td>\n",
       "      <td>4</td>\n",
       "      <td>79</td>\n",
       "      <td>58</td>\n",
       "      <td>2020-06-06 16:50:49</td>\n",
       "    </tr>\n",
       "    <tr>\n",
       "      <th>1</th>\n",
       "      <td>00FldKRY0RvsKorwsMzNt3</td>\n",
       "      <td>0.605</td>\n",
       "      <td>0.856</td>\n",
       "      <td>2</td>\n",
       "      <td>-6.094</td>\n",
       "      <td>0</td>\n",
       "      <td>0.0666</td>\n",
       "      <td>0.03460</td>\n",
       "      <td>0.8730</td>\n",
       "      <td>0.0874</td>\n",
       "      <td>0.215</td>\n",
       "      <td>152.005</td>\n",
       "      <td>202105</td>\n",
       "      <td>4</td>\n",
       "      <td>79</td>\n",
       "      <td>37</td>\n",
       "      <td>2020-06-06 16:50:49</td>\n",
       "    </tr>\n",
       "    <tr>\n",
       "      <th>2</th>\n",
       "      <td>00HqKJWFv3GS9cPfEB1WQm</td>\n",
       "      <td>0.678</td>\n",
       "      <td>0.795</td>\n",
       "      <td>4</td>\n",
       "      <td>-6.309</td>\n",
       "      <td>0</td>\n",
       "      <td>0.1310</td>\n",
       "      <td>0.01010</td>\n",
       "      <td>0.0159</td>\n",
       "      <td>0.0981</td>\n",
       "      <td>0.648</td>\n",
       "      <td>118.006</td>\n",
       "      <td>215593</td>\n",
       "      <td>4</td>\n",
       "      <td>79</td>\n",
       "      <td>55</td>\n",
       "      <td>2020-06-10 08:09:43</td>\n",
       "    </tr>\n",
       "    <tr>\n",
       "      <th>3</th>\n",
       "      <td>00KCwnrvIXX8GRU3ZMOIBW</td>\n",
       "      <td>0.825</td>\n",
       "      <td>0.692</td>\n",
       "      <td>6</td>\n",
       "      <td>-6.084</td>\n",
       "      <td>0</td>\n",
       "      <td>0.0627</td>\n",
       "      <td>0.17200</td>\n",
       "      <td>0.0010</td>\n",
       "      <td>0.0861</td>\n",
       "      <td>0.602</td>\n",
       "      <td>123.985</td>\n",
       "      <td>207821</td>\n",
       "      <td>4</td>\n",
       "      <td>2</td>\n",
       "      <td>61</td>\n",
       "      <td>2020-06-12 08:44:13</td>\n",
       "    </tr>\n",
       "    <tr>\n",
       "      <th>4</th>\n",
       "      <td>00VpefDueq3OB9zkZHLDVI</td>\n",
       "      <td>0.636</td>\n",
       "      <td>0.963</td>\n",
       "      <td>7</td>\n",
       "      <td>-7.309</td>\n",
       "      <td>1</td>\n",
       "      <td>0.0636</td>\n",
       "      <td>0.00342</td>\n",
       "      <td>0.1940</td>\n",
       "      <td>0.1130</td>\n",
       "      <td>0.766</td>\n",
       "      <td>124.971</td>\n",
       "      <td>216025</td>\n",
       "      <td>4</td>\n",
       "      <td>2</td>\n",
       "      <td>26</td>\n",
       "      <td>2020-06-08 07:47:57</td>\n",
       "    </tr>\n",
       "  </tbody>\n",
       "</table>\n",
       "</div>"
      ],
      "text/plain": [
       "                 track_id  danceability  energy  key  loudness  mode  \\\n",
       "0  00bOhb4584JjyfTiXX81mO         0.629   0.387   10   -13.667     1   \n",
       "1  00FldKRY0RvsKorwsMzNt3         0.605   0.856    2    -6.094     0   \n",
       "2  00HqKJWFv3GS9cPfEB1WQm         0.678   0.795    4    -6.309     0   \n",
       "3  00KCwnrvIXX8GRU3ZMOIBW         0.825   0.692    6    -6.084     0   \n",
       "4  00VpefDueq3OB9zkZHLDVI         0.636   0.963    7    -7.309     1   \n",
       "\n",
       "   speechiness  acousticness  instrumentalness  liveness  valence    tempo  \\\n",
       "0       0.0386       0.42400            0.0000    0.0479    0.497   76.003   \n",
       "1       0.0666       0.03460            0.8730    0.0874    0.215  152.005   \n",
       "2       0.1310       0.01010            0.0159    0.0981    0.648  118.006   \n",
       "3       0.0627       0.17200            0.0010    0.0861    0.602  123.985   \n",
       "4       0.0636       0.00342            0.1940    0.1130    0.766  124.971   \n",
       "\n",
       "   duration_ms  time_signature  total_available_markets  popularity  \\\n",
       "0       275640               4                       79          58   \n",
       "1       202105               4                       79          37   \n",
       "2       215593               4                       79          55   \n",
       "3       207821               4                        2          61   \n",
       "4       216025               4                        2          26   \n",
       "\n",
       "       added_datetime  \n",
       "0 2020-06-06 16:50:49  \n",
       "1 2020-06-06 16:50:49  \n",
       "2 2020-06-10 08:09:43  \n",
       "3 2020-06-12 08:44:13  \n",
       "4 2020-06-08 07:47:57  "
      ]
     },
     "execution_count": 9,
     "metadata": {},
     "output_type": "execute_result"
    }
   ],
   "source": [
    "audio_features_df.head()"
   ]
  },
  {
   "cell_type": "markdown",
   "metadata": {},
   "source": [
    "# Drop columns and scale features"
   ]
  },
  {
   "cell_type": "code",
   "execution_count": 10,
   "metadata": {},
   "outputs": [],
   "source": [
    "def preprocess_audio_features_df(afdf):\n",
    "    cols_to_drop = ['key', 'time_signature', 'total_available_markets', 'mode', 'duration_ms','popularity','added_datetime']\n",
    "    afdf = afdf.drop(cols_to_drop, axis=1)\n",
    "    afdf.set_index('track_id',inplace=True)\n",
    "    # normalyze / scale features\n",
    "    for col in ['loudness', 'tempo']:\n",
    "        afdf[col] = ((afdf[col] - afdf[col].min()) / (afdf[col].max() - afdf[col].min()))\n",
    "    return afdf"
   ]
  },
  {
   "cell_type": "code",
   "execution_count": 11,
   "metadata": {},
   "outputs": [],
   "source": [
    "audio_features_df = preprocess_audio_features_df(audio_features_df)"
   ]
  },
  {
   "cell_type": "code",
   "execution_count": 12,
   "metadata": {},
   "outputs": [
    {
     "data": {
      "text/html": [
       "<div>\n",
       "<style scoped>\n",
       "    .dataframe tbody tr th:only-of-type {\n",
       "        vertical-align: middle;\n",
       "    }\n",
       "\n",
       "    .dataframe tbody tr th {\n",
       "        vertical-align: top;\n",
       "    }\n",
       "\n",
       "    .dataframe thead th {\n",
       "        text-align: right;\n",
       "    }\n",
       "</style>\n",
       "<table border=\"1\" class=\"dataframe\">\n",
       "  <thead>\n",
       "    <tr style=\"text-align: right;\">\n",
       "      <th></th>\n",
       "      <th>danceability</th>\n",
       "      <th>energy</th>\n",
       "      <th>loudness</th>\n",
       "      <th>speechiness</th>\n",
       "      <th>acousticness</th>\n",
       "      <th>instrumentalness</th>\n",
       "      <th>liveness</th>\n",
       "      <th>valence</th>\n",
       "      <th>tempo</th>\n",
       "    </tr>\n",
       "    <tr>\n",
       "      <th>track_id</th>\n",
       "      <th></th>\n",
       "      <th></th>\n",
       "      <th></th>\n",
       "      <th></th>\n",
       "      <th></th>\n",
       "      <th></th>\n",
       "      <th></th>\n",
       "      <th></th>\n",
       "      <th></th>\n",
       "    </tr>\n",
       "  </thead>\n",
       "  <tbody>\n",
       "    <tr>\n",
       "      <th>00bOhb4584JjyfTiXX81mO</th>\n",
       "      <td>0.629</td>\n",
       "      <td>0.387</td>\n",
       "      <td>0.482140</td>\n",
       "      <td>0.0386</td>\n",
       "      <td>0.42400</td>\n",
       "      <td>0.0000</td>\n",
       "      <td>0.0479</td>\n",
       "      <td>0.497</td>\n",
       "      <td>0.219707</td>\n",
       "    </tr>\n",
       "    <tr>\n",
       "      <th>00FldKRY0RvsKorwsMzNt3</th>\n",
       "      <td>0.605</td>\n",
       "      <td>0.856</td>\n",
       "      <td>0.739271</td>\n",
       "      <td>0.0666</td>\n",
       "      <td>0.03460</td>\n",
       "      <td>0.8730</td>\n",
       "      <td>0.0874</td>\n",
       "      <td>0.215</td>\n",
       "      <td>0.631622</td>\n",
       "    </tr>\n",
       "    <tr>\n",
       "      <th>00HqKJWFv3GS9cPfEB1WQm</th>\n",
       "      <td>0.678</td>\n",
       "      <td>0.795</td>\n",
       "      <td>0.731971</td>\n",
       "      <td>0.1310</td>\n",
       "      <td>0.01010</td>\n",
       "      <td>0.0159</td>\n",
       "      <td>0.0981</td>\n",
       "      <td>0.648</td>\n",
       "      <td>0.447355</td>\n",
       "    </tr>\n",
       "    <tr>\n",
       "      <th>00KCwnrvIXX8GRU3ZMOIBW</th>\n",
       "      <td>0.825</td>\n",
       "      <td>0.692</td>\n",
       "      <td>0.739610</td>\n",
       "      <td>0.0627</td>\n",
       "      <td>0.17200</td>\n",
       "      <td>0.0010</td>\n",
       "      <td>0.0861</td>\n",
       "      <td>0.602</td>\n",
       "      <td>0.479760</td>\n",
       "    </tr>\n",
       "    <tr>\n",
       "      <th>00VpefDueq3OB9zkZHLDVI</th>\n",
       "      <td>0.636</td>\n",
       "      <td>0.963</td>\n",
       "      <td>0.698017</td>\n",
       "      <td>0.0636</td>\n",
       "      <td>0.00342</td>\n",
       "      <td>0.1940</td>\n",
       "      <td>0.1130</td>\n",
       "      <td>0.766</td>\n",
       "      <td>0.485104</td>\n",
       "    </tr>\n",
       "  </tbody>\n",
       "</table>\n",
       "</div>"
      ],
      "text/plain": [
       "                        danceability  energy  loudness  speechiness  \\\n",
       "track_id                                                              \n",
       "00bOhb4584JjyfTiXX81mO         0.629   0.387  0.482140       0.0386   \n",
       "00FldKRY0RvsKorwsMzNt3         0.605   0.856  0.739271       0.0666   \n",
       "00HqKJWFv3GS9cPfEB1WQm         0.678   0.795  0.731971       0.1310   \n",
       "00KCwnrvIXX8GRU3ZMOIBW         0.825   0.692  0.739610       0.0627   \n",
       "00VpefDueq3OB9zkZHLDVI         0.636   0.963  0.698017       0.0636   \n",
       "\n",
       "                        acousticness  instrumentalness  liveness  valence  \\\n",
       "track_id                                                                    \n",
       "00bOhb4584JjyfTiXX81mO       0.42400            0.0000    0.0479    0.497   \n",
       "00FldKRY0RvsKorwsMzNt3       0.03460            0.8730    0.0874    0.215   \n",
       "00HqKJWFv3GS9cPfEB1WQm       0.01010            0.0159    0.0981    0.648   \n",
       "00KCwnrvIXX8GRU3ZMOIBW       0.17200            0.0010    0.0861    0.602   \n",
       "00VpefDueq3OB9zkZHLDVI       0.00342            0.1940    0.1130    0.766   \n",
       "\n",
       "                           tempo  \n",
       "track_id                          \n",
       "00bOhb4584JjyfTiXX81mO  0.219707  \n",
       "00FldKRY0RvsKorwsMzNt3  0.631622  \n",
       "00HqKJWFv3GS9cPfEB1WQm  0.447355  \n",
       "00KCwnrvIXX8GRU3ZMOIBW  0.479760  \n",
       "00VpefDueq3OB9zkZHLDVI  0.485104  "
      ]
     },
     "execution_count": 12,
     "metadata": {},
     "output_type": "execute_result"
    }
   ],
   "source": [
    "audio_features_df.head()"
   ]
  },
  {
   "cell_type": "code",
   "execution_count": 17,
   "metadata": {},
   "outputs": [
    {
     "data": {
      "text/plain": [
       "array(['00bOhb4584JjyfTiXX81mO', '00FldKRY0RvsKorwsMzNt3',\n",
       "       '00HqKJWFv3GS9cPfEB1WQm', '00KCwnrvIXX8GRU3ZMOIBW',\n",
       "       '00VpefDueq3OB9zkZHLDVI'], dtype=object)"
      ]
     },
     "execution_count": 17,
     "metadata": {},
     "output_type": "execute_result"
    }
   ],
   "source": [
    "track_ids = audio_features_df.index.values\n",
    "track_ids[:5]"
   ]
  },
  {
   "cell_type": "markdown",
   "metadata": {},
   "source": [
    "# Distance and Similarity metrics:"
   ]
  },
  {
   "cell_type": "markdown",
   "metadata": {},
   "source": [
    "## \"euclidean\""
   ]
  },
  {
   "cell_type": "code",
   "execution_count": 18,
   "metadata": {},
   "outputs": [],
   "source": [
    "dist = DistanceMetric.get_metric('euclidean')\n",
    "dist_mat = dist.pairwise(audio_features_df)"
   ]
  },
  {
   "cell_type": "code",
   "execution_count": null,
   "metadata": {},
   "outputs": [],
   "source": []
  },
  {
   "cell_type": "code",
   "execution_count": null,
   "metadata": {},
   "outputs": [],
   "source": [
    "for i in range(len(track_ids)):\n",
    "    "
   ]
  }
 ],
 "metadata": {
  "kernelspec": {
   "display_name": "Python 3",
   "language": "python",
   "name": "python3"
  },
  "language_info": {
   "codemirror_mode": {
    "name": "ipython",
    "version": 3
   },
   "file_extension": ".py",
   "mimetype": "text/x-python",
   "name": "python",
   "nbconvert_exporter": "python",
   "pygments_lexer": "ipython3",
   "version": "3.7.6"
  }
 },
 "nbformat": 4,
 "nbformat_minor": 4
}
