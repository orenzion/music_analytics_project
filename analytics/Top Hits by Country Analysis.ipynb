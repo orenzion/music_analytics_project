{
 "cells": [
  {
   "cell_type": "markdown",
   "metadata": {},
   "source": [
    "# Analyzing top hits playlists audio features by country "
   ]
  },
  {
   "cell_type": "markdown",
   "metadata": {},
   "source": [
    "## We will do:\n",
    "- Analytics by country\n",
    "- classifying tracks based on their audio features where the target variable is the country "
   ]
  },
  {
   "cell_type": "code",
   "execution_count": 1,
   "metadata": {},
   "outputs": [],
   "source": [
    "import MySQLdb\n",
    "import pandas as pd\n",
    "import numpy as np\n",
    "import matplotlib.pyplot as plt\n",
    "import seaborn as sns\n",
    "import sys\n",
    "sys.path.append('../')\n",
    "import myenvvar"
   ]
  },
  {
   "cell_type": "code",
   "execution_count": 2,
   "metadata": {},
   "outputs": [],
   "source": [
    "conn = MySQLdb.Connection(\n",
    "        host=myenvvar.db_vars['host'],\n",
    "        user=myenvvar.db_vars['user'],\n",
    "        passwd=myenvvar.db_vars['password'],\n",
    "        port=myenvvar.db_vars['port'],\n",
    "        db=myenvvar.db_vars['db']\n",
    "        )\n",
    "conn.set_character_set('utf8')"
   ]
  },
  {
   "cell_type": "markdown",
   "metadata": {},
   "source": [
    "# Read top hits by country playlists and tracks"
   ]
  },
  {
   "cell_type": "code",
   "execution_count": 10,
   "metadata": {},
   "outputs": [
    {
     "data": {
      "text/plain": [
       "(457, 19)"
      ]
     },
     "execution_count": 10,
     "metadata": {},
     "output_type": "execute_result"
    }
   ],
   "source": [
    "q = \"select p.playlist_name, pt.playlist_id, af.* \\\n",
    "    from playlists p join playlists_tracks pt join audio_features af \\\n",
    "    on p.playlist_id = pt.playlist_id and pt.track_id = af.track_id \\\n",
    "    where p.playlist_name like 'Top Hits%'\"\n",
    "top_hits_by_country_df = pd.read_sql(q, conn)\n",
    "top_hits_by_country_df.shape"
   ]
  },
  {
   "cell_type": "code",
   "execution_count": 11,
   "metadata": {},
   "outputs": [
    {
     "data": {
      "text/html": [
       "<div>\n",
       "<style scoped>\n",
       "    .dataframe tbody tr th:only-of-type {\n",
       "        vertical-align: middle;\n",
       "    }\n",
       "\n",
       "    .dataframe tbody tr th {\n",
       "        vertical-align: top;\n",
       "    }\n",
       "\n",
       "    .dataframe thead th {\n",
       "        text-align: right;\n",
       "    }\n",
       "</style>\n",
       "<table border=\"1\" class=\"dataframe\">\n",
       "  <thead>\n",
       "    <tr style=\"text-align: right;\">\n",
       "      <th></th>\n",
       "      <th>playlist_name</th>\n",
       "      <th>playlist_id</th>\n",
       "      <th>track_id</th>\n",
       "      <th>danceability</th>\n",
       "      <th>energy</th>\n",
       "      <th>key</th>\n",
       "      <th>loudness</th>\n",
       "      <th>mode</th>\n",
       "      <th>speechiness</th>\n",
       "      <th>acousticness</th>\n",
       "      <th>instrumentalness</th>\n",
       "      <th>liveness</th>\n",
       "      <th>valence</th>\n",
       "      <th>tempo</th>\n",
       "      <th>duration_ms</th>\n",
       "      <th>time_signature</th>\n",
       "      <th>total_available_markets</th>\n",
       "      <th>popularity</th>\n",
       "      <th>added_datetime</th>\n",
       "    </tr>\n",
       "  </thead>\n",
       "  <tbody>\n",
       "    <tr>\n",
       "      <th>0</th>\n",
       "      <td>Top Hits Greece</td>\n",
       "      <td>37i9dQZF1DX0e5BFIQWSDG</td>\n",
       "      <td>017PF4Q3l4DBUiWoXk4OWT</td>\n",
       "      <td>0.730</td>\n",
       "      <td>0.729</td>\n",
       "      <td>4</td>\n",
       "      <td>-3.434</td>\n",
       "      <td>0</td>\n",
       "      <td>0.0886</td>\n",
       "      <td>0.16700</td>\n",
       "      <td>0.00000</td>\n",
       "      <td>0.3490</td>\n",
       "      <td>0.467</td>\n",
       "      <td>113.012</td>\n",
       "      <td>221820</td>\n",
       "      <td>4</td>\n",
       "      <td>76</td>\n",
       "      <td>90</td>\n",
       "      <td>2020-06-12 08:59:52</td>\n",
       "    </tr>\n",
       "    <tr>\n",
       "      <th>1</th>\n",
       "      <td>Top Hits Greece</td>\n",
       "      <td>37i9dQZF1DX0e5BFIQWSDG</td>\n",
       "      <td>01Y0KGT7VzixtLyOj44x56</td>\n",
       "      <td>0.881</td>\n",
       "      <td>0.783</td>\n",
       "      <td>8</td>\n",
       "      <td>-3.070</td>\n",
       "      <td>0</td>\n",
       "      <td>0.1630</td>\n",
       "      <td>0.38200</td>\n",
       "      <td>0.00010</td>\n",
       "      <td>0.1010</td>\n",
       "      <td>0.545</td>\n",
       "      <td>102.040</td>\n",
       "      <td>155293</td>\n",
       "      <td>4</td>\n",
       "      <td>79</td>\n",
       "      <td>63</td>\n",
       "      <td>2020-06-12 08:59:52</td>\n",
       "    </tr>\n",
       "    <tr>\n",
       "      <th>2</th>\n",
       "      <td>Top Hits Greece</td>\n",
       "      <td>37i9dQZF1DX0e5BFIQWSDG</td>\n",
       "      <td>0dD17UWACV5aYTyeS6af1k</td>\n",
       "      <td>0.747</td>\n",
       "      <td>0.586</td>\n",
       "      <td>6</td>\n",
       "      <td>-8.799</td>\n",
       "      <td>1</td>\n",
       "      <td>0.0591</td>\n",
       "      <td>0.26100</td>\n",
       "      <td>0.00003</td>\n",
       "      <td>0.1100</td>\n",
       "      <td>0.176</td>\n",
       "      <td>99.986</td>\n",
       "      <td>194400</td>\n",
       "      <td>4</td>\n",
       "      <td>79</td>\n",
       "      <td>51</td>\n",
       "      <td>2020-06-12 08:59:52</td>\n",
       "    </tr>\n",
       "    <tr>\n",
       "      <th>3</th>\n",
       "      <td>Top Hits Greece</td>\n",
       "      <td>37i9dQZF1DX0e5BFIQWSDG</td>\n",
       "      <td>0nbXyq5TXYPCO7pr3N8S4I</td>\n",
       "      <td>0.896</td>\n",
       "      <td>0.586</td>\n",
       "      <td>10</td>\n",
       "      <td>-6.687</td>\n",
       "      <td>0</td>\n",
       "      <td>0.0559</td>\n",
       "      <td>0.10400</td>\n",
       "      <td>0.00000</td>\n",
       "      <td>0.7900</td>\n",
       "      <td>0.642</td>\n",
       "      <td>116.971</td>\n",
       "      <td>196653</td>\n",
       "      <td>4</td>\n",
       "      <td>79</td>\n",
       "      <td>96</td>\n",
       "      <td>2020-06-12 08:46:52</td>\n",
       "    </tr>\n",
       "    <tr>\n",
       "      <th>4</th>\n",
       "      <td>Top Hits Greece</td>\n",
       "      <td>37i9dQZF1DX0e5BFIQWSDG</td>\n",
       "      <td>0VjIjW4GlUZAMYd2vXMi3b</td>\n",
       "      <td>0.514</td>\n",
       "      <td>0.730</td>\n",
       "      <td>1</td>\n",
       "      <td>-5.934</td>\n",
       "      <td>1</td>\n",
       "      <td>0.0598</td>\n",
       "      <td>0.00146</td>\n",
       "      <td>0.00010</td>\n",
       "      <td>0.0897</td>\n",
       "      <td>0.334</td>\n",
       "      <td>171.005</td>\n",
       "      <td>200040</td>\n",
       "      <td>4</td>\n",
       "      <td>79</td>\n",
       "      <td>100</td>\n",
       "      <td>2020-06-12 08:49:52</td>\n",
       "    </tr>\n",
       "  </tbody>\n",
       "</table>\n",
       "</div>"
      ],
      "text/plain": [
       "     playlist_name             playlist_id                track_id  \\\n",
       "0  Top Hits Greece  37i9dQZF1DX0e5BFIQWSDG  017PF4Q3l4DBUiWoXk4OWT   \n",
       "1  Top Hits Greece  37i9dQZF1DX0e5BFIQWSDG  01Y0KGT7VzixtLyOj44x56   \n",
       "2  Top Hits Greece  37i9dQZF1DX0e5BFIQWSDG  0dD17UWACV5aYTyeS6af1k   \n",
       "3  Top Hits Greece  37i9dQZF1DX0e5BFIQWSDG  0nbXyq5TXYPCO7pr3N8S4I   \n",
       "4  Top Hits Greece  37i9dQZF1DX0e5BFIQWSDG  0VjIjW4GlUZAMYd2vXMi3b   \n",
       "\n",
       "   danceability  energy  key  loudness  mode  speechiness  acousticness  \\\n",
       "0         0.730   0.729    4    -3.434     0       0.0886       0.16700   \n",
       "1         0.881   0.783    8    -3.070     0       0.1630       0.38200   \n",
       "2         0.747   0.586    6    -8.799     1       0.0591       0.26100   \n",
       "3         0.896   0.586   10    -6.687     0       0.0559       0.10400   \n",
       "4         0.514   0.730    1    -5.934     1       0.0598       0.00146   \n",
       "\n",
       "   instrumentalness  liveness  valence    tempo  duration_ms  time_signature  \\\n",
       "0           0.00000    0.3490    0.467  113.012       221820               4   \n",
       "1           0.00010    0.1010    0.545  102.040       155293               4   \n",
       "2           0.00003    0.1100    0.176   99.986       194400               4   \n",
       "3           0.00000    0.7900    0.642  116.971       196653               4   \n",
       "4           0.00010    0.0897    0.334  171.005       200040               4   \n",
       "\n",
       "   total_available_markets  popularity      added_datetime  \n",
       "0                       76          90 2020-06-12 08:59:52  \n",
       "1                       79          63 2020-06-12 08:59:52  \n",
       "2                       79          51 2020-06-12 08:59:52  \n",
       "3                       79          96 2020-06-12 08:46:52  \n",
       "4                       79         100 2020-06-12 08:49:52  "
      ]
     },
     "execution_count": 11,
     "metadata": {},
     "output_type": "execute_result"
    }
   ],
   "source": [
    "top_hits_by_country_df.head()"
   ]
  },
  {
   "cell_type": "markdown",
   "metadata": {},
   "source": [
    "# Get playlists names"
   ]
  },
  {
   "cell_type": "code",
   "execution_count": 12,
   "metadata": {},
   "outputs": [
    {
     "data": {
      "text/plain": [
       "array(['Top Hits Deutschland', 'Top Hits Greece', 'Top Hits Indonesia',\n",
       "       'Top Hits Japan', 'Top Hits Philippines', 'Top Hits Polska',\n",
       "       'Top Hits Portugal', 'Top Hits Switzerland', 'Top Hits Vietnam'],\n",
       "      dtype=object)"
      ]
     },
     "execution_count": 12,
     "metadata": {},
     "output_type": "execute_result"
    }
   ],
   "source": [
    "playlists_names_list = np.unique(top_hits_by_country_df['playlist_name'])\n",
    "playlists_names_list"
   ]
  }
 ],
 "metadata": {
  "kernelspec": {
   "display_name": "Python 3",
   "language": "python",
   "name": "python3"
  },
  "language_info": {
   "codemirror_mode": {
    "name": "ipython",
    "version": 3
   },
   "file_extension": ".py",
   "mimetype": "text/x-python",
   "name": "python",
   "nbconvert_exporter": "python",
   "pygments_lexer": "ipython3",
   "version": "3.7.6"
  }
 },
 "nbformat": 4,
 "nbformat_minor": 4
}
