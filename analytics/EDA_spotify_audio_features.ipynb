{
 "cells": [
  {
   "cell_type": "code",
   "execution_count": 1,
   "metadata": {},
   "outputs": [],
   "source": [
    "import MySQLdb\n",
    "import pandas as pd\n",
    "import numpy as np\n",
    "import matplotlib.pyplot as plt\n",
    "import seaborn as sns\n",
    "import sys\n",
    "sys.path.append('../')\n",
    "import myenvvar\n",
    "from sklearn.cluster import KMeans\n",
    "import datetime as dt"
   ]
  },
  {
   "cell_type": "code",
   "execution_count": 2,
   "metadata": {},
   "outputs": [],
   "source": [
    "conn = MySQLdb.Connection(\n",
    "        host=myenvvar.db_vars['host'],\n",
    "        user=myenvvar.db_vars['user'],\n",
    "        passwd=myenvvar.db_vars['password'],\n",
    "        port=myenvvar.db_vars['port'],\n",
    "        db=myenvvar.db_vars['db']\n",
    "        )"
   ]
  },
  {
   "cell_type": "code",
   "execution_count": 4,
   "metadata": {},
   "outputs": [],
   "source": [
    "q = \"SELECT * FROM audio_features\"\n",
    "audio_features_df = pd.read_sql(q, conn)"
   ]
  },
  {
   "cell_type": "code",
   "execution_count": 5,
   "metadata": {},
   "outputs": [
    {
     "data": {
      "text/plain": [
       "(1806, 17)"
      ]
     },
     "execution_count": 5,
     "metadata": {},
     "output_type": "execute_result"
    }
   ],
   "source": [
    "audio_features_df.shape"
   ]
  },
  {
   "cell_type": "code",
   "execution_count": 6,
   "metadata": {},
   "outputs": [
    {
     "data": {
      "text/html": [
       "<div>\n",
       "<style scoped>\n",
       "    .dataframe tbody tr th:only-of-type {\n",
       "        vertical-align: middle;\n",
       "    }\n",
       "\n",
       "    .dataframe tbody tr th {\n",
       "        vertical-align: top;\n",
       "    }\n",
       "\n",
       "    .dataframe thead th {\n",
       "        text-align: right;\n",
       "    }\n",
       "</style>\n",
       "<table border=\"1\" class=\"dataframe\">\n",
       "  <thead>\n",
       "    <tr style=\"text-align: right;\">\n",
       "      <th></th>\n",
       "      <th>track_id</th>\n",
       "      <th>danceability</th>\n",
       "      <th>energy</th>\n",
       "      <th>key</th>\n",
       "      <th>loudness</th>\n",
       "      <th>mode</th>\n",
       "      <th>speechiness</th>\n",
       "      <th>acousticness</th>\n",
       "      <th>instrumentalness</th>\n",
       "      <th>liveness</th>\n",
       "      <th>valence</th>\n",
       "      <th>tempo</th>\n",
       "      <th>duration_ms</th>\n",
       "      <th>time_signature</th>\n",
       "      <th>total_available_markets</th>\n",
       "      <th>popularity</th>\n",
       "      <th>added_datetime</th>\n",
       "    </tr>\n",
       "  </thead>\n",
       "  <tbody>\n",
       "    <tr>\n",
       "      <th>0</th>\n",
       "      <td>00bOhb4584JjyfTiXX81mO</td>\n",
       "      <td>0.629</td>\n",
       "      <td>0.387</td>\n",
       "      <td>10</td>\n",
       "      <td>-13.667</td>\n",
       "      <td>1</td>\n",
       "      <td>0.0386</td>\n",
       "      <td>0.42400</td>\n",
       "      <td>0.0000</td>\n",
       "      <td>0.0479</td>\n",
       "      <td>0.497</td>\n",
       "      <td>76.003</td>\n",
       "      <td>275640</td>\n",
       "      <td>4</td>\n",
       "      <td>79</td>\n",
       "      <td>58</td>\n",
       "      <td>2020-06-06 16:50:49</td>\n",
       "    </tr>\n",
       "    <tr>\n",
       "      <th>1</th>\n",
       "      <td>00FldKRY0RvsKorwsMzNt3</td>\n",
       "      <td>0.605</td>\n",
       "      <td>0.856</td>\n",
       "      <td>2</td>\n",
       "      <td>-6.094</td>\n",
       "      <td>0</td>\n",
       "      <td>0.0666</td>\n",
       "      <td>0.03460</td>\n",
       "      <td>0.8730</td>\n",
       "      <td>0.0874</td>\n",
       "      <td>0.215</td>\n",
       "      <td>152.005</td>\n",
       "      <td>202105</td>\n",
       "      <td>4</td>\n",
       "      <td>79</td>\n",
       "      <td>37</td>\n",
       "      <td>2020-06-06 16:50:49</td>\n",
       "    </tr>\n",
       "    <tr>\n",
       "      <th>2</th>\n",
       "      <td>00HqKJWFv3GS9cPfEB1WQm</td>\n",
       "      <td>0.678</td>\n",
       "      <td>0.795</td>\n",
       "      <td>4</td>\n",
       "      <td>-6.309</td>\n",
       "      <td>0</td>\n",
       "      <td>0.1310</td>\n",
       "      <td>0.01010</td>\n",
       "      <td>0.0159</td>\n",
       "      <td>0.0981</td>\n",
       "      <td>0.648</td>\n",
       "      <td>118.006</td>\n",
       "      <td>215593</td>\n",
       "      <td>4</td>\n",
       "      <td>79</td>\n",
       "      <td>55</td>\n",
       "      <td>2020-06-10 08:09:43</td>\n",
       "    </tr>\n",
       "    <tr>\n",
       "      <th>3</th>\n",
       "      <td>00VpefDueq3OB9zkZHLDVI</td>\n",
       "      <td>0.636</td>\n",
       "      <td>0.963</td>\n",
       "      <td>7</td>\n",
       "      <td>-7.309</td>\n",
       "      <td>1</td>\n",
       "      <td>0.0636</td>\n",
       "      <td>0.00342</td>\n",
       "      <td>0.1940</td>\n",
       "      <td>0.1130</td>\n",
       "      <td>0.766</td>\n",
       "      <td>124.971</td>\n",
       "      <td>216025</td>\n",
       "      <td>4</td>\n",
       "      <td>2</td>\n",
       "      <td>26</td>\n",
       "      <td>2020-06-08 07:47:57</td>\n",
       "    </tr>\n",
       "    <tr>\n",
       "      <th>4</th>\n",
       "      <td>013vhwBqoO9GHoKhsviiyG</td>\n",
       "      <td>0.530</td>\n",
       "      <td>0.121</td>\n",
       "      <td>1</td>\n",
       "      <td>-11.614</td>\n",
       "      <td>1</td>\n",
       "      <td>0.0481</td>\n",
       "      <td>0.69900</td>\n",
       "      <td>0.9340</td>\n",
       "      <td>0.1010</td>\n",
       "      <td>0.433</td>\n",
       "      <td>79.999</td>\n",
       "      <td>110236</td>\n",
       "      <td>3</td>\n",
       "      <td>79</td>\n",
       "      <td>53</td>\n",
       "      <td>2020-06-06 16:50:49</td>\n",
       "    </tr>\n",
       "  </tbody>\n",
       "</table>\n",
       "</div>"
      ],
      "text/plain": [
       "                 track_id  danceability  energy  key  loudness  mode  \\\n",
       "0  00bOhb4584JjyfTiXX81mO         0.629   0.387   10   -13.667     1   \n",
       "1  00FldKRY0RvsKorwsMzNt3         0.605   0.856    2    -6.094     0   \n",
       "2  00HqKJWFv3GS9cPfEB1WQm         0.678   0.795    4    -6.309     0   \n",
       "3  00VpefDueq3OB9zkZHLDVI         0.636   0.963    7    -7.309     1   \n",
       "4  013vhwBqoO9GHoKhsviiyG         0.530   0.121    1   -11.614     1   \n",
       "\n",
       "   speechiness  acousticness  instrumentalness  liveness  valence    tempo  \\\n",
       "0       0.0386       0.42400            0.0000    0.0479    0.497   76.003   \n",
       "1       0.0666       0.03460            0.8730    0.0874    0.215  152.005   \n",
       "2       0.1310       0.01010            0.0159    0.0981    0.648  118.006   \n",
       "3       0.0636       0.00342            0.1940    0.1130    0.766  124.971   \n",
       "4       0.0481       0.69900            0.9340    0.1010    0.433   79.999   \n",
       "\n",
       "   duration_ms  time_signature  total_available_markets  popularity  \\\n",
       "0       275640               4                       79          58   \n",
       "1       202105               4                       79          37   \n",
       "2       215593               4                       79          55   \n",
       "3       216025               4                        2          26   \n",
       "4       110236               3                       79          53   \n",
       "\n",
       "       added_datetime  \n",
       "0 2020-06-06 16:50:49  \n",
       "1 2020-06-06 16:50:49  \n",
       "2 2020-06-10 08:09:43  \n",
       "3 2020-06-08 07:47:57  \n",
       "4 2020-06-06 16:50:49  "
      ]
     },
     "execution_count": 6,
     "metadata": {},
     "output_type": "execute_result"
    }
   ],
   "source": [
    "audio_features_df.head()"
   ]
  },
  {
   "cell_type": "code",
   "execution_count": 7,
   "metadata": {},
   "outputs": [],
   "source": [
    "audio_features_df.set_index('track_id',inplace=True)"
   ]
  },
  {
   "cell_type": "code",
   "execution_count": 8,
   "metadata": {},
   "outputs": [
    {
     "data": {
      "text/html": [
       "<div>\n",
       "<style scoped>\n",
       "    .dataframe tbody tr th:only-of-type {\n",
       "        vertical-align: middle;\n",
       "    }\n",
       "\n",
       "    .dataframe tbody tr th {\n",
       "        vertical-align: top;\n",
       "    }\n",
       "\n",
       "    .dataframe thead th {\n",
       "        text-align: right;\n",
       "    }\n",
       "</style>\n",
       "<table border=\"1\" class=\"dataframe\">\n",
       "  <thead>\n",
       "    <tr style=\"text-align: right;\">\n",
       "      <th></th>\n",
       "      <th>danceability</th>\n",
       "      <th>energy</th>\n",
       "      <th>key</th>\n",
       "      <th>loudness</th>\n",
       "      <th>mode</th>\n",
       "      <th>speechiness</th>\n",
       "      <th>acousticness</th>\n",
       "      <th>instrumentalness</th>\n",
       "      <th>liveness</th>\n",
       "      <th>valence</th>\n",
       "      <th>tempo</th>\n",
       "      <th>duration_ms</th>\n",
       "      <th>time_signature</th>\n",
       "      <th>total_available_markets</th>\n",
       "      <th>popularity</th>\n",
       "    </tr>\n",
       "    <tr>\n",
       "      <th>track_id</th>\n",
       "      <th></th>\n",
       "      <th></th>\n",
       "      <th></th>\n",
       "      <th></th>\n",
       "      <th></th>\n",
       "      <th></th>\n",
       "      <th></th>\n",
       "      <th></th>\n",
       "      <th></th>\n",
       "      <th></th>\n",
       "      <th></th>\n",
       "      <th></th>\n",
       "      <th></th>\n",
       "      <th></th>\n",
       "      <th></th>\n",
       "    </tr>\n",
       "  </thead>\n",
       "  <tbody>\n",
       "    <tr>\n",
       "      <th>00bOhb4584JjyfTiXX81mO</th>\n",
       "      <td>0.629</td>\n",
       "      <td>0.387</td>\n",
       "      <td>10</td>\n",
       "      <td>-13.667</td>\n",
       "      <td>1</td>\n",
       "      <td>0.0386</td>\n",
       "      <td>0.42400</td>\n",
       "      <td>0.0000</td>\n",
       "      <td>0.0479</td>\n",
       "      <td>0.497</td>\n",
       "      <td>76.003</td>\n",
       "      <td>275640</td>\n",
       "      <td>4</td>\n",
       "      <td>79</td>\n",
       "      <td>58</td>\n",
       "    </tr>\n",
       "    <tr>\n",
       "      <th>00FldKRY0RvsKorwsMzNt3</th>\n",
       "      <td>0.605</td>\n",
       "      <td>0.856</td>\n",
       "      <td>2</td>\n",
       "      <td>-6.094</td>\n",
       "      <td>0</td>\n",
       "      <td>0.0666</td>\n",
       "      <td>0.03460</td>\n",
       "      <td>0.8730</td>\n",
       "      <td>0.0874</td>\n",
       "      <td>0.215</td>\n",
       "      <td>152.005</td>\n",
       "      <td>202105</td>\n",
       "      <td>4</td>\n",
       "      <td>79</td>\n",
       "      <td>37</td>\n",
       "    </tr>\n",
       "    <tr>\n",
       "      <th>00HqKJWFv3GS9cPfEB1WQm</th>\n",
       "      <td>0.678</td>\n",
       "      <td>0.795</td>\n",
       "      <td>4</td>\n",
       "      <td>-6.309</td>\n",
       "      <td>0</td>\n",
       "      <td>0.1310</td>\n",
       "      <td>0.01010</td>\n",
       "      <td>0.0159</td>\n",
       "      <td>0.0981</td>\n",
       "      <td>0.648</td>\n",
       "      <td>118.006</td>\n",
       "      <td>215593</td>\n",
       "      <td>4</td>\n",
       "      <td>79</td>\n",
       "      <td>55</td>\n",
       "    </tr>\n",
       "    <tr>\n",
       "      <th>00VpefDueq3OB9zkZHLDVI</th>\n",
       "      <td>0.636</td>\n",
       "      <td>0.963</td>\n",
       "      <td>7</td>\n",
       "      <td>-7.309</td>\n",
       "      <td>1</td>\n",
       "      <td>0.0636</td>\n",
       "      <td>0.00342</td>\n",
       "      <td>0.1940</td>\n",
       "      <td>0.1130</td>\n",
       "      <td>0.766</td>\n",
       "      <td>124.971</td>\n",
       "      <td>216025</td>\n",
       "      <td>4</td>\n",
       "      <td>2</td>\n",
       "      <td>26</td>\n",
       "    </tr>\n",
       "    <tr>\n",
       "      <th>013vhwBqoO9GHoKhsviiyG</th>\n",
       "      <td>0.530</td>\n",
       "      <td>0.121</td>\n",
       "      <td>1</td>\n",
       "      <td>-11.614</td>\n",
       "      <td>1</td>\n",
       "      <td>0.0481</td>\n",
       "      <td>0.69900</td>\n",
       "      <td>0.9340</td>\n",
       "      <td>0.1010</td>\n",
       "      <td>0.433</td>\n",
       "      <td>79.999</td>\n",
       "      <td>110236</td>\n",
       "      <td>3</td>\n",
       "      <td>79</td>\n",
       "      <td>53</td>\n",
       "    </tr>\n",
       "  </tbody>\n",
       "</table>\n",
       "</div>"
      ],
      "text/plain": [
       "                        danceability  energy  key  loudness  mode  \\\n",
       "track_id                                                            \n",
       "00bOhb4584JjyfTiXX81mO         0.629   0.387   10   -13.667     1   \n",
       "00FldKRY0RvsKorwsMzNt3         0.605   0.856    2    -6.094     0   \n",
       "00HqKJWFv3GS9cPfEB1WQm         0.678   0.795    4    -6.309     0   \n",
       "00VpefDueq3OB9zkZHLDVI         0.636   0.963    7    -7.309     1   \n",
       "013vhwBqoO9GHoKhsviiyG         0.530   0.121    1   -11.614     1   \n",
       "\n",
       "                        speechiness  acousticness  instrumentalness  liveness  \\\n",
       "track_id                                                                        \n",
       "00bOhb4584JjyfTiXX81mO       0.0386       0.42400            0.0000    0.0479   \n",
       "00FldKRY0RvsKorwsMzNt3       0.0666       0.03460            0.8730    0.0874   \n",
       "00HqKJWFv3GS9cPfEB1WQm       0.1310       0.01010            0.0159    0.0981   \n",
       "00VpefDueq3OB9zkZHLDVI       0.0636       0.00342            0.1940    0.1130   \n",
       "013vhwBqoO9GHoKhsviiyG       0.0481       0.69900            0.9340    0.1010   \n",
       "\n",
       "                        valence    tempo  duration_ms  time_signature  \\\n",
       "track_id                                                                \n",
       "00bOhb4584JjyfTiXX81mO    0.497   76.003       275640               4   \n",
       "00FldKRY0RvsKorwsMzNt3    0.215  152.005       202105               4   \n",
       "00HqKJWFv3GS9cPfEB1WQm    0.648  118.006       215593               4   \n",
       "00VpefDueq3OB9zkZHLDVI    0.766  124.971       216025               4   \n",
       "013vhwBqoO9GHoKhsviiyG    0.433   79.999       110236               3   \n",
       "\n",
       "                        total_available_markets  popularity  \n",
       "track_id                                                     \n",
       "00bOhb4584JjyfTiXX81mO                       79          58  \n",
       "00FldKRY0RvsKorwsMzNt3                       79          37  \n",
       "00HqKJWFv3GS9cPfEB1WQm                       79          55  \n",
       "00VpefDueq3OB9zkZHLDVI                        2          26  \n",
       "013vhwBqoO9GHoKhsviiyG                       79          53  "
      ]
     },
     "execution_count": 8,
     "metadata": {},
     "output_type": "execute_result"
    }
   ],
   "source": [
    "cols_to_drop = ['added_datetime']\n",
    "audio_features_df.drop(cols_to_drop,axis=1,inplace=True)\n",
    "audio_features_df.head()"
   ]
  },
  {
   "cell_type": "markdown",
   "metadata": {},
   "source": [
    "# Distributions of tracks audio feaures"
   ]
  },
  {
   "cell_type": "code",
   "execution_count": 13,
   "metadata": {},
   "outputs": [
    {
     "data": {
      "text/plain": [
       "array([[<matplotlib.axes._subplots.AxesSubplot object at 0x000001BF98406E88>,\n",
       "        <matplotlib.axes._subplots.AxesSubplot object at 0x000001BF97193508>,\n",
       "        <matplotlib.axes._subplots.AxesSubplot object at 0x000001BF98461B48>,\n",
       "        <matplotlib.axes._subplots.AxesSubplot object at 0x000001BF98491E88>],\n",
       "       [<matplotlib.axes._subplots.AxesSubplot object at 0x000001BF984BA388>,\n",
       "        <matplotlib.axes._subplots.AxesSubplot object at 0x000001BF984E5F48>,\n",
       "        <matplotlib.axes._subplots.AxesSubplot object at 0x000001BF9851CB08>,\n",
       "        <matplotlib.axes._subplots.AxesSubplot object at 0x000001BF9855AE88>],\n",
       "       [<matplotlib.axes._subplots.AxesSubplot object at 0x000001BF98561248>,\n",
       "        <matplotlib.axes._subplots.AxesSubplot object at 0x000001BF987B4F08>,\n",
       "        <matplotlib.axes._subplots.AxesSubplot object at 0x000001BF9881BEC8>,\n",
       "        <matplotlib.axes._subplots.AxesSubplot object at 0x000001BF98852F48>],\n",
       "       [<matplotlib.axes._subplots.AxesSubplot object at 0x000001BF98891088>,\n",
       "        <matplotlib.axes._subplots.AxesSubplot object at 0x000001BF988C9188>,\n",
       "        <matplotlib.axes._subplots.AxesSubplot object at 0x000001BF989012C8>,\n",
       "        <matplotlib.axes._subplots.AxesSubplot object at 0x000001BF989383C8>]],\n",
       "      dtype=object)"
      ]
     },
     "execution_count": 13,
     "metadata": {},
     "output_type": "execute_result"
    },
    {
     "data": {
      "image/png": "[encoded data removed]",
      "text/plain": [
       "<Figure size 1080x1080 with 16 Axes>"
      ]
     },
     "metadata": {
      "needs_background": "light"
     },
     "output_type": "display_data"
    }
   ],
   "source": [
    "audio_features_df.hist(figsize=(15,15))"
   ]
  },
  {
   "cell_type": "markdown",
   "metadata": {},
   "source": [
    "## Through observing the distribution plot, we can immediately observe the following:\n",
    "- There is a very heavy slope downwards in the features speechiness and acousticness, which we can note a slight up-tail in the distribution near the end of the plot. **This indicates to us that the music styles of the tracks are in general less acoustic or speechy**. The uptail indicates to us, that songs with high speechy or acoustic are more likely to be selected near the upper-bound.\n",
    "- Most of the tracks are not very **lively**, and as the **liveliness** of the track increases, the likelihood of it being featured in the DB decreases.\n",
    "- **Danceability appears to normally distributed** with tails of the distribution featuring lower likelihoods of being featured in the DB."
   ]
  },
  {
   "cell_type": "markdown",
   "metadata": {},
   "source": [
    "# What are the tracks that apply for the min & man of each feature? "
   ]
  },
  {
   "cell_type": "code",
   "execution_count": 16,
   "metadata": {},
   "outputs": [
    {
     "data": {
      "text/plain": [
       "['00bOhb4584JjyfTiXX81mO', '00FldKRY0RvsKorwsMzNt3', '00HqKJWFv3GS9cPfEB1WQm']"
      ]
     },
     "execution_count": 16,
     "metadata": {},
     "output_type": "execute_result"
    }
   ],
   "source": [
    "tracks_ids_list = list(audio_features_df.index.values)\n",
    "tracks_ids_list[:3]"
   ]
  },
  {
   "cell_type": "markdown",
   "metadata": {},
   "source": [
    "### 1. acousticness\n",
    "A confidence measure from 0.0 to 1.0 of whether the track is acoustic. 1.0 represents high confidence the track is acoustic. "
   ]
  },
  {
   "cell_type": "code",
   "execution_count": 22,
   "metadata": {},
   "outputs": [
    {
     "name": "stdout",
     "output_type": "stream",
     "text": [
      "min: spotify:track:32V75XycGC7MUCkQ6se7iv\n",
      "max: spotify:track:17OeUFNPrEdOwyuuFGq6Na\n"
     ]
    }
   ],
   "source": [
    "acousticness_list = list(audio_features_df['acousticness'])\n",
    "# min\n",
    "min_index = np.argmin(acousticness_list)\n",
    "print(\"min:\",'spotify:track:' + str(tracks_ids_list[min_index]))\n",
    "# max\n",
    "max_index = np.argmax(acousticness_list)\n",
    "print(\"max:\",'spotify:track:' + str(tracks_ids_list[max_index]))"
   ]
  },
  {
   "cell_type": "markdown",
   "metadata": {},
   "source": [
    "min: The track is 'trance' type\n",
    "\n",
    "max: The track is very 'chill' type with a lot of musical instruments"
   ]
  },
  {
   "cell_type": "markdown",
   "metadata": {},
   "source": [
    "### 2. danceability\n",
    "Danceability describes how suitable a track is for dancing based on a combination of musical elements including tempo, rhythm stability, beat strength, and overall regularity. A value of 0.0 is least danceable and 1.0 is most danceable."
   ]
  },
  {
   "cell_type": "code",
   "execution_count": 23,
   "metadata": {},
   "outputs": [
    {
     "name": "stdout",
     "output_type": "stream",
     "text": [
      "min: spotify:track:3daicJ3FTsqzXFxMNJ6zXe\n",
      "max: spotify:track:6rGBks2LevDjAMo5KJq88Y\n"
     ]
    }
   ],
   "source": [
    "danceability_list = list(audio_features_df['danceability'])\n",
    "# min\n",
    "min_index = np.argmin(danceability_list)\n",
    "print(\"min:\",'spotify:track:' + str(tracks_ids_list[min_index]))\n",
    "# max\n",
    "max_index = np.argmax(danceability_list)\n",
    "print(\"max:\",'spotify:track:' + str(tracks_ids_list[max_index]))"
   ]
  },
  {
   "cell_type": "markdown",
   "metadata": {},
   "source": [
    "min: The track very 'chill', not many sounds, no beat\n",
    "\n",
    "max: The track is very 'monotonic-techno', german style, not so fast not so slow"
   ]
  },
  {
   "cell_type": "markdown",
   "metadata": {},
   "source": [
    "### 3. duration_ms"
   ]
  },
  {
   "cell_type": "code",
   "execution_count": 25,
   "metadata": {},
   "outputs": [
    {
     "name": "stdout",
     "output_type": "stream",
     "text": [
      "min: spotify:track:3fimYwkWOq8YoXnpRrmyU6\n",
      "max: spotify:track:0gFQ0zR40UTHeRCg02cJMK\n"
     ]
    }
   ],
   "source": [
    "duration_ms_list = list(audio_features_df['duration_ms'])\n",
    "# min\n",
    "min_index = np.argmin(duration_ms_list)\n",
    "print(\"min:\",'spotify:track:' + str(tracks_ids_list[min_index]))\n",
    "# max\n",
    "max_index = np.argmax(duration_ms_list)\n",
    "print(\"max:\",'spotify:track:' + str(tracks_ids_list[max_index]))"
   ]
  },
  {
   "cell_type": "markdown",
   "metadata": {},
   "source": [
    "### 4. energy\n",
    "Energy is a measure from 0.0 to 1.0 and represents a perceptual measure of intensity and activity. Typically, energetic tracks feel fast, loud, and noisy. For example, death metal has high energy, while a Bach prelude scores low on the scale. Perceptual features contributing to this attribute include dynamic range, perceived loudness, timbre, onset rate, and general entropy. "
   ]
  },
  {
   "cell_type": "code",
   "execution_count": 26,
   "metadata": {},
   "outputs": [
    {
     "name": "stdout",
     "output_type": "stream",
     "text": [
      "min: spotify:track:3sftoMHsX3sCIwIhvYXBov\n",
      "max: spotify:track:2yss0n7KmvmSr4EHvjfFpn\n"
     ]
    }
   ],
   "source": [
    "energy_list = list(audio_features_df['energy'])\n",
    "# min\n",
    "min_index = np.argmin(energy_list)\n",
    "print(\"min:\",'spotify:track:' + str(tracks_ids_list[min_index]))\n",
    "# max\n",
    "max_index = np.argmax(energy_list)\n",
    "print(\"max:\",'spotify:track:' + str(tracks_ids_list[max_index]))"
   ]
  },
  {
   "cell_type": "markdown",
   "metadata": {},
   "source": [
    "min: The track very 'meditative-chill-sounds', perfect for relaxation and lowering the energy \n",
    "\n",
    "max: The track is very 'hard-rock', energyzing, angry, screaming, motivating"
   ]
  },
  {
   "cell_type": "markdown",
   "metadata": {},
   "source": [
    "### 5. instrumentalness\n",
    "Predicts whether a track contains no vocals. “Ooh” and “aah” sounds are treated as instrumental in this context. Rap or spoken word tracks are clearly “vocal”. **The closer the instrumentalness value is to 1.0, the greater likelihood the track contains no vocal content**. Values above 0.5 are intended to represent instrumental tracks, but confidence is higher as the value approaches 1.0. "
   ]
  },
  {
   "cell_type": "code",
   "execution_count": 27,
   "metadata": {},
   "outputs": [
    {
     "name": "stdout",
     "output_type": "stream",
     "text": [
      "min: spotify:track:00bOhb4584JjyfTiXX81mO\n",
      "max: spotify:track:3fimYwkWOq8YoXnpRrmyU6\n"
     ]
    }
   ],
   "source": [
    "instrumentalness_list = list(audio_features_df['instrumentalness'])\n",
    "# min\n",
    "min_index = np.argmin(instrumentalness_list)\n",
    "print(\"min:\",'spotify:track:' + str(tracks_ids_list[min_index]))\n",
    "# max\n",
    "max_index = np.argmax(instrumentalness_list)\n",
    "print(\"max:\",'spotify:track:' + str(tracks_ids_list[max_index]))"
   ]
  },
  {
   "cell_type": "markdown",
   "metadata": {},
   "source": [
    "min: The track very 'church-black-deep-voice', lots of instruments, quite chill \n",
    "\n",
    "max: The track is very 'movie-background/chill clothing store', has a live **white-screen television noise** in the background, short track"
   ]
  },
  {
   "cell_type": "markdown",
   "metadata": {},
   "source": [
    "### 6. key\n",
    "The estimated overall key of the track. Integers map to pitches using standard Pitch Class notation . E.g. 0 = C, 1 = C♯/D♭, 2 = D, and so on. If no key was detected, the value is -1."
   ]
  },
  {
   "cell_type": "code",
   "execution_count": 28,
   "metadata": {},
   "outputs": [
    {
     "name": "stdout",
     "output_type": "stream",
     "text": [
      "min: spotify:track:02HlNztgEFU65Nfp64N0lh\n",
      "max: spotify:track:02X4USIaAlOqV8W3XR7nIo\n"
     ]
    }
   ],
   "source": [
    "key_list = list(audio_features_df['key'])\n",
    "# min\n",
    "min_index = np.argmin(key_list)\n",
    "print(\"min:\",'spotify:track:' + str(tracks_ids_list[min_index]))\n",
    "# max\n",
    "max_index = np.argmax(key_list)\n",
    "print(\"max:\",'spotify:track:' + str(tracks_ids_list[max_index]))"
   ]
  },
  {
   "cell_type": "markdown",
   "metadata": {},
   "source": [
    "min: The track very 'dub-reggae', no words almost- a lot of bass and low sounds\n",
    "\n",
    "max: The track is very high octave, high end sounds. - amharit language"
   ]
  },
  {
   "cell_type": "markdown",
   "metadata": {},
   "source": [
    "### 7. liveness\n",
    "Detects the presence of an audience in the recording. Higher liveness values represent an increased probability that the track was performed live. A value above 0.8 provides strong likelihood that the track is live."
   ]
  },
  {
   "cell_type": "code",
   "execution_count": 29,
   "metadata": {},
   "outputs": [
    {
     "name": "stdout",
     "output_type": "stream",
     "text": [
      "min: spotify:track:1mWVesRiDMgR5v7Umv1DBC\n",
      "max: spotify:track:4bW1aidYiqN0xXxwaXnHKc\n"
     ]
    }
   ],
   "source": [
    "liveness_list = list(audio_features_df['liveness'])\n",
    "# min\n",
    "min_index = np.argmin(liveness_list)\n",
    "print(\"min:\",'spotify:track:' + str(tracks_ids_list[min_index]))\n",
    "# max\n",
    "max_index = np.argmax(liveness_list)\n",
    "print(\"max:\",'spotify:track:' + str(tracks_ids_list[max_index]))"
   ]
  },
  {
   "cell_type": "markdown",
   "metadata": {},
   "source": [
    "min: The track very 'dub-liquid drum and base', doesnt sound live\n",
    "\n",
    "max: The track is very live - you can here people clapping hands"
   ]
  },
  {
   "cell_type": "markdown",
   "metadata": {},
   "source": [
    "### 8. loudness\n",
    "The overall loudness of a track in decibels (dB). Loudness values are averaged across the entire track and are useful for comparing relative loudness of tracks. Loudness is the quality of a sound that is the primary psychological correlate of physical strength (amplitude). Values typical range between -60 and 0 db."
   ]
  },
  {
   "cell_type": "code",
   "execution_count": 30,
   "metadata": {},
   "outputs": [
    {
     "name": "stdout",
     "output_type": "stream",
     "text": [
      "min: spotify:track:1sDW5dzaHU8cJns5bCin7X\n",
      "max: spotify:track:6KLcIhlMdXwS5rIFjPbxyg\n"
     ]
    }
   ],
   "source": [
    "loudness_list = list(audio_features_df['loudness'])\n",
    "# min\n",
    "min_index = np.argmin(loudness_list)\n",
    "print(\"min:\",'spotify:track:' + str(tracks_ids_list[min_index]))\n",
    "# max\n",
    "max_index = np.argmax(loudness_list)\n",
    "print(\"max:\",'spotify:track:' + str(tracks_ids_list[max_index]))"
   ]
  },
  {
   "cell_type": "markdown",
   "metadata": {},
   "source": [
    "min: The track very 'meditative-chill', quiet track\n",
    "\n",
    "max: The track is very 'duft-punky' loud, bass, high-end octave sounds, screaming"
   ]
  },
  {
   "cell_type": "markdown",
   "metadata": {},
   "source": [
    "### 9. mode\n",
    "Mode indicates the modality (major or minor) of a track, the type of scale from which its melodic content is derived. Major is represented by 1 and minor is 0."
   ]
  },
  {
   "cell_type": "code",
   "execution_count": 31,
   "metadata": {},
   "outputs": [
    {
     "name": "stdout",
     "output_type": "stream",
     "text": [
      "min: spotify:track:00FldKRY0RvsKorwsMzNt3\n",
      "max: spotify:track:00bOhb4584JjyfTiXX81mO\n"
     ]
    }
   ],
   "source": [
    "mode_list = list(audio_features_df['mode'])\n",
    "# min\n",
    "min_index = np.argmin(mode_list)\n",
    "print(\"min:\",'spotify:track:' + str(tracks_ids_list[min_index]))\n",
    "# max\n",
    "max_index = np.argmax(mode_list)\n",
    "print(\"max:\",'spotify:track:' + str(tracks_ids_list[max_index]))"
   ]
  },
  {
   "cell_type": "markdown",
   "metadata": {},
   "source": [
    "min: The track very 'organiky', more of organ\n",
    "\n",
    "max: The track is very 'pinanowy' more of piano scale"
   ]
  },
  {
   "cell_type": "markdown",
   "metadata": {},
   "source": [
    "### 10. popularity"
   ]
  },
  {
   "cell_type": "markdown",
   "metadata": {},
   "source": [
    "### It can be interesting to check what kind of music in more popular on spotify's platform"
   ]
  },
  {
   "cell_type": "code",
   "execution_count": 32,
   "metadata": {},
   "outputs": [
    {
     "name": "stdout",
     "output_type": "stream",
     "text": [
      "min: spotify:track:0D933CTvEKTkSZSMvAMqrp\n",
      "max: spotify:track:62aP9fBQKYKxi7PDXwcUAS\n"
     ]
    }
   ],
   "source": [
    "popularity_list = list(audio_features_df['popularity'])\n",
    "# min\n",
    "min_index = np.argmin(popularity_list)\n",
    "print(\"min:\",'spotify:track:' + str(tracks_ids_list[min_index]))\n",
    "# max\n",
    "max_index = np.argmax(popularity_list)\n",
    "print(\"max:\",'spotify:track:' + str(tracks_ids_list[max_index]))"
   ]
  },
  {
   "cell_type": "markdown",
   "metadata": {},
   "source": [
    "min: The track is trance - maybe trance is less popular in spotify's platform?? - worth checking!\n",
    "\n",
    "max: more a girly song - old mtv"
   ]
  },
  {
   "cell_type": "markdown",
   "metadata": {},
   "source": [
    "### 11. speechiness\n",
    "Speechiness detects the presence of spoken words in a track. The more exclusively speech-like the recording (e.g. talk show, audio book, poetry), the closer to 1.0 the attribute value. Values above 0.66 describe tracks that are probably made entirely of spoken words. Values between 0.33 and 0.66 describe tracks that may contain both music and speech, either in sections or layered, including such cases as rap music. Values below 0.33 most likely represent music and other non-speech-like tracks."
   ]
  },
  {
   "cell_type": "code",
   "execution_count": 33,
   "metadata": {},
   "outputs": [
    {
     "name": "stdout",
     "output_type": "stream",
     "text": [
      "min: spotify:track:6Ycf7Ch2VlEKlORbz7yfpJ\n",
      "max: spotify:track:5ZbJR1AfdOsvsYNuCvgqKX\n"
     ]
    }
   ],
   "source": [
    "speechiness_list = list(audio_features_df['speechiness'])\n",
    "# min\n",
    "min_index = np.argmin(speechiness_list)\n",
    "print(\"min:\",'spotify:track:' + str(tracks_ids_list[min_index]))\n",
    "# max\n",
    "max_index = np.argmax(speechiness_list)\n",
    "print(\"max:\",'spotify:track:' + str(tracks_ids_list[max_index]))"
   ]
  },
  {
   "cell_type": "markdown",
   "metadata": {},
   "source": [
    "min: The track has words - maybe a mistake\n",
    "\n",
    "max: very 'wordy' track, kind of rap, words per second very high"
   ]
  },
  {
   "cell_type": "markdown",
   "metadata": {},
   "source": [
    "### 12. tempo\n",
    "The overall estimated tempo of a track in beats per minute (BPM). In musical terminology, tempo is the speed or pace of a given piece and derives directly from the average beat duration. "
   ]
  },
  {
   "cell_type": "code",
   "execution_count": 34,
   "metadata": {},
   "outputs": [
    {
     "name": "stdout",
     "output_type": "stream",
     "text": [
      "min: spotify:track:0zAEIoKDSKzorxOIgo3OOm\n",
      "max: spotify:track:1wXwO8888WyTeXFBPs3hof\n"
     ]
    }
   ],
   "source": [
    "tempo_list = list(audio_features_df['tempo'])\n",
    "# min\n",
    "min_index = np.argmin(tempo_list)\n",
    "print(\"min:\",'spotify:track:' + str(tracks_ids_list[min_index]))\n",
    "# max\n",
    "max_index = np.argmax(tempo_list)\n",
    "print(\"max:\",'spotify:track:' + str(tracks_ids_list[max_index]))"
   ]
  },
  {
   "cell_type": "markdown",
   "metadata": {},
   "source": [
    "min: The track is very meditative, no structure, no beat\n",
    "\n",
    "max: track is kind of beaty but I thought it would be more 'electronic' and it is more 'country'.."
   ]
  },
  {
   "cell_type": "markdown",
   "metadata": {},
   "source": [
    "### 13. time_signature"
   ]
  },
  {
   "cell_type": "code",
   "execution_count": 35,
   "metadata": {},
   "outputs": [
    {
     "name": "stdout",
     "output_type": "stream",
     "text": [
      "min: spotify:track:5CNk0kw2Nl9rsLyzzTpv5C\n",
      "max: spotify:track:0DFjiHjUysH8tAbdwCybFR\n"
     ]
    }
   ],
   "source": [
    "time_signature_list = list(audio_features_df['time_signature'])\n",
    "# min\n",
    "min_index = np.argmin(time_signature_list)\n",
    "print(\"min:\",'spotify:track:' + str(tracks_ids_list[min_index]))\n",
    "# max\n",
    "max_index = np.argmax(time_signature_list)\n",
    "print(\"max:\",'spotify:track:' + str(tracks_ids_list[max_index]))"
   ]
  },
  {
   "cell_type": "markdown",
   "metadata": {},
   "source": [
    "### 14. total_available_markets"
   ]
  },
  {
   "cell_type": "code",
   "execution_count": 36,
   "metadata": {},
   "outputs": [
    {
     "name": "stdout",
     "output_type": "stream",
     "text": [
      "min: spotify:track:0Bw8fmo8dm9tgoQp6yD9qo\n",
      "max: spotify:track:00bOhb4584JjyfTiXX81mO\n"
     ]
    }
   ],
   "source": [
    "total_available_markets_list = list(audio_features_df['total_available_markets'])\n",
    "# min\n",
    "min_index = np.argmin(total_available_markets_list)\n",
    "print(\"min:\",'spotify:track:' + str(tracks_ids_list[min_index]))\n",
    "# max\n",
    "max_index = np.argmax(total_available_markets_list)\n",
    "print(\"max:\",'spotify:track:' + str(tracks_ids_list[max_index]))"
   ]
  },
  {
   "cell_type": "markdown",
   "metadata": {},
   "source": [
    "### 15. valence\n",
    "A measure from 0.0 to 1.0 describing the **musical positiveness** conveyed by a track. Tracks with high valence sound more positive (e.g. happy, cheerful, euphoric), while tracks with low valence sound more negative (e.g. sad, depressed, angry). "
   ]
  },
  {
   "cell_type": "code",
   "execution_count": 37,
   "metadata": {},
   "outputs": [
    {
     "name": "stdout",
     "output_type": "stream",
     "text": [
      "min: spotify:track:1r1SmjmtleRUJlZH6m0CAG\n",
      "max: spotify:track:77INJxJ6rxhiA8plh779AL\n"
     ]
    }
   ],
   "source": [
    "valence_list = list(audio_features_df['valence'])\n",
    "# min\n",
    "min_index = np.argmin(valence_list)\n",
    "print(\"min:\",'spotify:track:' + str(tracks_ids_list[min_index]))\n",
    "# max\n",
    "max_index = np.argmax(valence_list)\n",
    "print(\"max:\",'spotify:track:' + str(tracks_ids_list[max_index]))"
   ]
  },
  {
   "cell_type": "markdown",
   "metadata": {},
   "source": [
    "min: The track is very dark deep techno, berlin. very gray.\n",
    "\n",
    "max: track is very happy. half 'selected', funny, good for a funny travel vlog "
   ]
  },
  {
   "cell_type": "markdown",
   "metadata": {},
   "source": [
    "# Correlation between features"
   ]
  },
  {
   "cell_type": "code",
   "execution_count": 56,
   "metadata": {},
   "outputs": [
    {
     "data": {
      "text/plain": [
       "energy        loudness        0.753948\n",
       "loudness      energy          0.753948\n",
       "acousticness  energy          0.689094\n",
       "energy        acousticness    0.689094\n",
       "loudness      acousticness    0.580712\n",
       "acousticness  loudness        0.580712\n",
       "dtype: float64"
      ]
     },
     "execution_count": 56,
     "metadata": {},
     "output_type": "execute_result"
    }
   ],
   "source": [
    "c = audio_features_df.corr().abs()\n",
    "\n",
    "s = c.unstack()\n",
    "so = s.sort_values(kind=\"quicksort\",ascending=False)\n",
    "so = so[so != 1] # drop self correlation\n",
    "so = so[so>0.5] # show features that have a correlation greater than 0.5\n",
    "so"
   ]
  },
  {
   "cell_type": "markdown",
   "metadata": {},
   "source": [
    "- energy and loudness\n",
    "- acousticness and enerdy\n",
    "- acousticness and loudness\n",
    "### energy, loudness and acousticness are highly correlated which makes sense!"
   ]
  },
  {
   "cell_type": "code",
   "execution_count": null,
   "metadata": {},
   "outputs": [],
   "source": []
  }
 ],
 "metadata": {
  "kernelspec": {
   "display_name": "Python 3",
   "language": "python",
   "name": "python3"
  },
  "language_info": {
   "codemirror_mode": {
    "name": "ipython",
    "version": 3
   },
   "file_extension": ".py",
   "mimetype": "text/x-python",
   "name": "python",
   "nbconvert_exporter": "python",
   "pygments_lexer": "ipython3",
   "version": "3.7.6"
  }
 },
 "nbformat": 4,
 "nbformat_minor": 4
}
